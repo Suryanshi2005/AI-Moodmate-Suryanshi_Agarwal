{
 "cells": [
  {
   "cell_type": "code",
   "execution_count": 1,
   "id": "56c1a833-3437-4fd4-8e0d-9f02bdaae5ca",
   "metadata": {},
   "outputs": [],
   "source": [
    "import os\n",
    "import numpy as np\n",
    "import matplotlib.pyplot as plt\n",
    "from PIL import Image\n",
    "from tensorflow.keras.preprocessing.image import ImageDataGenerator\n",
    "import scipy\n",
    "import pandas as pd\n"
   ]
  },
  {
   "cell_type": "code",
   "execution_count": 2,
   "id": "66e20e32-9305-481c-87bf-f54eb9e8ef1e",
   "metadata": {},
   "outputs": [
    {
     "name": "stdout",
     "output_type": "stream",
     "text": [
      "train folder path C:\\Users\\avija\\Downloads\\FER2013\\train\n",
      "test folder path C:\\Users\\avija\\Downloads\\FER2013\\test\n"
     ]
    }
   ],
   "source": [
    "base_dir = \"FER2013\"\n",
    "train_dir = os.path.join(base_dir, r\"C:\\Users\\avija\\Downloads\\FER2013\\train\")\n",
    "test_dir = os.path.join(base_dir, r\"C:\\Users\\avija\\Downloads\\FER2013\\test\")\n",
    "print(\"train folder path\", train_dir)\n",
    "print(\"test folder path\", test_dir)"
   ]
  },
  {
   "cell_type": "code",
   "execution_count": 3,
   "id": "579ff71c-0b34-40f1-85a9-84f61854b277",
   "metadata": {},
   "outputs": [
    {
     "name": "stdout",
     "output_type": "stream",
     "text": [
      "classes are found: ['angry', 'disgust', 'fear', 'happy', 'neutral', 'sad', 'surprise']\n"
     ]
    }
   ],
   "source": [
    "classes = [d for d in os.listdir(train_dir) if os.path.isdir(os.path.join(train_dir, d))]\n",
    "print(\"classes are found:\", classes)"
   ]
  },
  {
   "cell_type": "code",
   "execution_count": 4,
   "id": "d8bd2588-5925-4260-9c39-c2fc1aac1e55",
   "metadata": {},
   "outputs": [
    {
     "name": "stdout",
     "output_type": "stream",
     "text": [
      "angry: 3995 images\n",
      "disgust: 436 images\n",
      "fear: 4097 images\n",
      "happy: 7215 images\n",
      "neutral: 4965 images\n",
      "sad: 4830 images\n",
      "surprise: 3171 images\n"
     ]
    }
   ],
   "source": [
    "for c in classes:\n",
    "    img_count = len(os.listdir(os.path.join(train_dir, c)))\n",
    "    print(f\"{c}: {img_count} images\")"
   ]
  },
  {
   "cell_type": "code",
   "execution_count": 5,
   "id": "6d8ae741-048e-43c6-84d4-9b043d33df2d",
   "metadata": {},
   "outputs": [],
   "source": [
    "train_datagen = ImageDataGenerator( \n",
    "    rescale=1./255,\n",
    "    rotation_range=10,\n",
    "    width_shift_range=0.1,\n",
    "    zoom_range=0.1,\n",
    "    horizontal_flip=True,\n",
    "    validation_split=0.2\n",
    ")\n"
   ]
  },
  {
   "cell_type": "code",
   "execution_count": 6,
   "id": "cc1ff6de-87c4-4ff0-a20f-2bec1528d8ee",
   "metadata": {},
   "outputs": [],
   "source": [
    "test_datagen = ImageDataGenerator(rescale=1./255)"
   ]
  },
  {
   "cell_type": "code",
   "execution_count": 7,
   "id": "f93b04f3-36d0-471f-b330-99b5820f84c7",
   "metadata": {},
   "outputs": [
    {
     "name": "stdout",
     "output_type": "stream",
     "text": [
      "Found 22968 images belonging to 7 classes.\n"
     ]
    }
   ],
   "source": [
    "train_data = train_datagen.flow_from_directory(\n",
    "    train_dir,\n",
    "    target_size=(48,48),\n",
    "    color_mode=\"grayscale\",\n",
    "    class_mode=\"categorical\",\n",
    "    batch_size=64,\n",
    "    shuffle=True,\n",
    "    subset=\"training\"\n",
    ")"
   ]
  },
  {
   "cell_type": "code",
   "execution_count": 8,
   "id": "0fef64e8-9581-41d9-89a6-a501f4a9ebde",
   "metadata": {},
   "outputs": [
    {
     "name": "stdout",
     "output_type": "stream",
     "text": [
      "Found 5741 images belonging to 7 classes.\n"
     ]
    }
   ],
   "source": [
    "val_data = train_datagen.flow_from_directory(\n",
    "    train_dir,\n",
    "    target_size=(48,48),\n",
    "    color_mode=\"grayscale\",\n",
    "    class_mode=\"categorical\",\n",
    "    batch_size=64,\n",
    "    shuffle=True,\n",
    "    subset=\"validation\"\n",
    ")\n",
    "    "
   ]
  },
  {
   "cell_type": "code",
   "execution_count": 9,
   "id": "8593f62c-a6c3-45e4-8e8e-7074a687242d",
   "metadata": {},
   "outputs": [
    {
     "name": "stdout",
     "output_type": "stream",
     "text": [
      "Found 7178 images belonging to 7 classes.\n"
     ]
    }
   ],
   "source": [
    "test_data = test_datagen.flow_from_directory(\n",
    "    test_dir,\n",
    "    target_size=(48,48),\n",
    "    color_mode=\"grayscale\",\n",
    "    class_mode=\"categorical\",\n",
    "    batch_size=64,\n",
    "    shuffle=False\n",
    ")"
   ]
  },
  {
   "cell_type": "code",
   "execution_count": 10,
   "id": "048facf1-7257-47c1-b23e-352ca2d1bad4",
   "metadata": {},
   "outputs": [
    {
     "data": {
      "image/png": "[encoded data removed]",
      "text/plain": [
       "<Figure size 640x480 with 1 Axes>"
      ]
     },
     "metadata": {},
     "output_type": "display_data"
    }
   ],
   "source": [
    "x_batch, y_batch = next(train_data)\n",
    "plt.imshow(x_batch[0].reshape(48,48),cmap=\"gray\")\n",
    "plt.title(f\"Label: {np.argmax(y_batch[0])}\")\n",
    "plt.axis(\"off\")\n",
    "plt.show()"
   ]
  },
  {
   "cell_type": "code",
   "execution_count": 11,
   "id": "724e0491-64c2-486f-93b5-3cc03b103dbc",
   "metadata": {},
   "outputs": [
    {
     "name": "stdout",
     "output_type": "stream",
     "text": [
      "File exists: True\n"
     ]
    }
   ],
   "source": [
    "base_dir = \"FER2013\"\n",
    "music_csv = os.path.join(base_dir, r\"C:\\Users\\avija\\Downloads\\FER2013\\last.fm\\Last.fm_data.csv\")\n",
    "print(\"File exists:\", os.path.exists(music_csv))\n",
    "\n"
   ]
  },
  {
   "cell_type": "code",
   "execution_count": 12,
   "id": "aee79e33-5918-4181-a334-6224480803dc",
   "metadata": {},
   "outputs": [
    {
     "name": "stdout",
     "output_type": "stream",
     "text": [
      "Dataset loaded successfully!\n",
      "columns available: Index(['Unnamed: 0', 'Username', 'Artist', 'Track', 'Album', 'Date', 'Time'], dtype='object')\n",
      "   Unnamed: 0 Username           Artist                          Track  \\\n",
      "0           0  Babs_05  Isobel Campbell     The Circus Is Leaving Town   \n",
      "1           1  Babs_05  Isobel Campbell                   Dusty Wreath   \n",
      "2           2  Babs_05  Isobel Campbell     Honey Child What Can I Do?   \n",
      "3           3  Babs_05  Isobel Campbell  It's Hard To Kill A Bad Thing   \n",
      "4           4  Babs_05  Isobel Campbell                Saturday's Gone   \n",
      "\n",
      "                       Album         Date    Time  \n",
      "0  Ballad of the Broken Seas  31 Jan 2021   23:36  \n",
      "1  Ballad of the Broken Seas  31 Jan 2021   23:32  \n",
      "2  Ballad of the Broken Seas  31 Jan 2021   23:28  \n",
      "3  Ballad of the Broken Seas  31 Jan 2021   23:25  \n",
      "4  Ballad of the Broken Seas  31 Jan 2021   23:21  \n"
     ]
    }
   ],
   "source": [
    "music_df = pd.read_csv(music_csv)\n",
    "print(\"Dataset loaded successfully!\")\n",
    "print(\"columns available:\",music_df.columns)\n",
    "print(music_df.head())\n"
   ]
  },
  {
   "cell_type": "code",
   "execution_count": 13,
   "id": "f17ae5fa-651d-4cf9-bd96-541814323506",
   "metadata": {},
   "outputs": [
    {
     "name": "stdout",
     "output_type": "stream",
     "text": [
      "  Username           Artist                          Track  \\\n",
      "0  Babs_05  Isobel Campbell     The Circus Is Leaving Town   \n",
      "1  Babs_05  Isobel Campbell                   Dusty Wreath   \n",
      "2  Babs_05  Isobel Campbell     Honey Child What Can I Do?   \n",
      "3  Babs_05  Isobel Campbell  It's Hard To Kill A Bad Thing   \n",
      "4  Babs_05  Isobel Campbell                Saturday's Gone   \n",
      "\n",
      "                       Album         Date    Time  \n",
      "0  Ballad of the Broken Seas  31 Jan 2021   23:36  \n",
      "1  Ballad of the Broken Seas  31 Jan 2021   23:32  \n",
      "2  Ballad of the Broken Seas  31 Jan 2021   23:28  \n",
      "3  Ballad of the Broken Seas  31 Jan 2021   23:25  \n",
      "4  Ballad of the Broken Seas  31 Jan 2021   23:21  \n"
     ]
    }
   ],
   "source": [
    "\n",
    "music_df = music_df.drop(columns=['Unnamed: 0', 'username', 'date', 'time'], errors='ignore')\n",
    "\n",
    "print(music_df.head())\n"
   ]
  },
  {
   "cell_type": "code",
   "execution_count": 14,
   "id": "a73ebd5b-7d08-4a41-9a4d-0854cd7a7c59",
   "metadata": {},
   "outputs": [
    {
     "name": "stdout",
     "output_type": "stream",
     "text": [
      "Dataset shape after cleaning: (76038, 6)\n"
     ]
    }
   ],
   "source": [
    "music_df = music_df.drop_duplicates(subset=['Track', 'Artist'])\n",
    "\n",
    "print(\"Dataset shape after cleaning:\", music_df.shape)\n"
   ]
  },
  {
   "cell_type": "code",
   "execution_count": 15,
   "id": "a1928ae7-11b4-4a30-83e8-a7d387a6b891",
   "metadata": {},
   "outputs": [],
   "source": [
    "music_df['Track'] = music_df['Track'].str.lower().str.strip()\n",
    "music_df['Artist'] = music_df['Artist'].str.lower().str.strip()\n"
   ]
  },
  {
   "cell_type": "code",
   "execution_count": 16,
   "id": "80492d9b-cbc9-4161-aa11-acc6c505e9bf",
   "metadata": {},
   "outputs": [
    {
     "name": "stdout",
     "output_type": "stream",
     "text": [
      "                               Track           Artist  emotion\n",
      "0         the circus is leaving town  isobel campbell  neutral\n",
      "1                       dusty wreath  isobel campbell  neutral\n",
      "2         honey child what can i do?  isobel campbell  neutral\n",
      "3      it's hard to kill a bad thing  isobel campbell  neutral\n",
      "4                    saturday's gone  isobel campbell  neutral\n",
      "5  (do you wanna) come walk with me?  isobel campbell  neutral\n",
      "6                       ramblin' man  isobel campbell  neutral\n",
      "7                           revolver  isobel campbell  neutral\n",
      "8          ballad of the broken seas  isobel campbell  neutral\n",
      "9                  the false husband  isobel campbell  neutral\n"
     ]
    }
   ],
   "source": [
    "def map_emotion(track, artist):\n",
    "    track = str(track).lower()\n",
    "    artist = str(artist).lower()\n",
    "\n",
    "    \n",
    "    if \"love\" in track or \"happy\" in track or \"dance\" in track:\n",
    "        return \"happy\"\n",
    "    elif \"sad\" in track or \"cry\" in track or \"lonely\" in track:\n",
    "        return \"sad\"\n",
    "    elif \"rock\" in track or \"metal\" in artist or \"angry\" in track:\n",
    "        return \"angry\"\n",
    "    elif \"calm\" in track or \"chill\" in track or \"instrumental\" in track:\n",
    "        return \"neutral\"\n",
    "    else:\n",
    "        return \"neutral\"  # default\n",
    "\n",
    "\n",
    "music_df['emotion'] = music_df.apply(lambda x: map_emotion(x['Track'], x['Artist']), axis=1)\n",
    "\n",
    "print(music_df[['Track', 'Artist', 'emotion']].head(10))\n"
   ]
  },
  {
   "cell_type": "code",
   "execution_count": 17,
   "id": "717d25c8-6bd4-4fde-a3b9-c16e895ebb94",
   "metadata": {},
   "outputs": [],
   "source": [
    "import random\n",
    "\n",
    "def recommend_songs(emotion, n=5):\n",
    "    # Filter dataset on detected emotion\n",
    "    filtered = music_df[music_df['emotion'] == emotion]\n",
    "\n",
    "    if filtered.empty:\n",
    "        return [\"No songs found for this emotion.\"]\n",
    "\n",
    "\n",
    "    return filtered.sample(n=min(n, len(filtered)))[['Track', 'Artist']]\n"
   ]
  },
  {
   "cell_type": "code",
   "execution_count": 18,
   "id": "9c40569e-100f-4573-a436-75e3fa323365",
   "metadata": {},
   "outputs": [
    {
     "name": "stdout",
     "output_type": "stream",
     "text": [
      "🎵 Recommended Songs for Emotion: happy\n",
      "                                                   Track           Artist\n",
      "16275                                    lover's resolve      mark system\n",
      "19255                                  anything but love    steve hackett\n",
      "17903                                             lovers        rei brown\n",
      "30732  the rite of spring, pt. 1: the adoration of th...  igor stravinsky\n",
      "12479                                          real love        big thief\n"
     ]
    }
   ],
   "source": [
    "\n",
    "detected_emotion = \"happy\"\n",
    "\n",
    "print(f\"🎵 Recommended Songs for Emotion: {detected_emotion}\")\n",
    "print(recommend_songs(detected_emotion, n=5))\n"
   ]
  },
  {
   "cell_type": "code",
   "execution_count": 19,
   "id": "bfbbb2b3-f9ee-42a9-9257-ceda7aa4f11f",
   "metadata": {},
   "outputs": [],
   "source": [
    "import math\n",
    "from tensorflow.keras import layers, models, callbacks, optimizers\n",
    "from tensorflow.keras.utils import to_categorical\n",
    "from sklearn.utils.class_weight import compute_class_weight"
   ]
  },
  {
   "cell_type": "code",
   "execution_count": 20,
   "id": "90f09b4a-c160-4d16-984b-e9f857939a09",
   "metadata": {},
   "outputs": [
    {
     "data": {
      "text/html": [
       "<pre style=\"white-space:pre;overflow-x:auto;line-height:normal;font-family:Menlo,'DejaVu Sans Mono',consolas,'Courier New',monospace\"><span style=\"font-weight: bold\">Model: \"sequential\"</span>\n",
       "</pre>\n"
      ],
      "text/plain": [
       "\u001b[1mModel: \"sequential\"\u001b[0m\n"
      ]
     },
     "metadata": {},
     "output_type": "display_data"
    },
    {
     "data": {
      "text/html": [
       "<pre style=\"white-space:pre;overflow-x:auto;line-height:normal;font-family:Menlo,'DejaVu Sans Mono',consolas,'Courier New',monospace\">┏━━━━━━━━━━━━━━━━━━━━━━━━━━━━━━━━━┳━━━━━━━━━━━━━━━━━━━━━━━━┳━━━━━━━━━━━━━━━┓\n",
       "┃<span style=\"font-weight: bold\"> Layer (type)                    </span>┃<span style=\"font-weight: bold\"> Output Shape           </span>┃<span style=\"font-weight: bold\">       Param # </span>┃\n",
       "┡━━━━━━━━━━━━━━━━━━━━━━━━━━━━━━━━━╇━━━━━━━━━━━━━━━━━━━━━━━━╇━━━━━━━━━━━━━━━┩\n",
       "│ conv2d (<span style=\"color: #0087ff; text-decoration-color: #0087ff\">Conv2D</span>)                 │ (<span style=\"color: #00d7ff; text-decoration-color: #00d7ff\">None</span>, <span style=\"color: #00af00; text-decoration-color: #00af00\">48</span>, <span style=\"color: #00af00; text-decoration-color: #00af00\">48</span>, <span style=\"color: #00af00; text-decoration-color: #00af00\">32</span>)     │           <span style=\"color: #00af00; text-decoration-color: #00af00\">320</span> │\n",
       "├─────────────────────────────────┼────────────────────────┼───────────────┤\n",
       "│ batch_normalization             │ (<span style=\"color: #00d7ff; text-decoration-color: #00d7ff\">None</span>, <span style=\"color: #00af00; text-decoration-color: #00af00\">48</span>, <span style=\"color: #00af00; text-decoration-color: #00af00\">48</span>, <span style=\"color: #00af00; text-decoration-color: #00af00\">32</span>)     │           <span style=\"color: #00af00; text-decoration-color: #00af00\">128</span> │\n",
       "│ (<span style=\"color: #0087ff; text-decoration-color: #0087ff\">BatchNormalization</span>)            │                        │               │\n",
       "├─────────────────────────────────┼────────────────────────┼───────────────┤\n",
       "│ max_pooling2d (<span style=\"color: #0087ff; text-decoration-color: #0087ff\">MaxPooling2D</span>)    │ (<span style=\"color: #00d7ff; text-decoration-color: #00d7ff\">None</span>, <span style=\"color: #00af00; text-decoration-color: #00af00\">24</span>, <span style=\"color: #00af00; text-decoration-color: #00af00\">24</span>, <span style=\"color: #00af00; text-decoration-color: #00af00\">32</span>)     │             <span style=\"color: #00af00; text-decoration-color: #00af00\">0</span> │\n",
       "├─────────────────────────────────┼────────────────────────┼───────────────┤\n",
       "│ dropout (<span style=\"color: #0087ff; text-decoration-color: #0087ff\">Dropout</span>)               │ (<span style=\"color: #00d7ff; text-decoration-color: #00d7ff\">None</span>, <span style=\"color: #00af00; text-decoration-color: #00af00\">24</span>, <span style=\"color: #00af00; text-decoration-color: #00af00\">24</span>, <span style=\"color: #00af00; text-decoration-color: #00af00\">32</span>)     │             <span style=\"color: #00af00; text-decoration-color: #00af00\">0</span> │\n",
       "├─────────────────────────────────┼────────────────────────┼───────────────┤\n",
       "│ conv2d_1 (<span style=\"color: #0087ff; text-decoration-color: #0087ff\">Conv2D</span>)               │ (<span style=\"color: #00d7ff; text-decoration-color: #00d7ff\">None</span>, <span style=\"color: #00af00; text-decoration-color: #00af00\">24</span>, <span style=\"color: #00af00; text-decoration-color: #00af00\">24</span>, <span style=\"color: #00af00; text-decoration-color: #00af00\">64</span>)     │        <span style=\"color: #00af00; text-decoration-color: #00af00\">18,496</span> │\n",
       "├─────────────────────────────────┼────────────────────────┼───────────────┤\n",
       "│ batch_normalization_1           │ (<span style=\"color: #00d7ff; text-decoration-color: #00d7ff\">None</span>, <span style=\"color: #00af00; text-decoration-color: #00af00\">24</span>, <span style=\"color: #00af00; text-decoration-color: #00af00\">24</span>, <span style=\"color: #00af00; text-decoration-color: #00af00\">64</span>)     │           <span style=\"color: #00af00; text-decoration-color: #00af00\">256</span> │\n",
       "│ (<span style=\"color: #0087ff; text-decoration-color: #0087ff\">BatchNormalization</span>)            │                        │               │\n",
       "├─────────────────────────────────┼────────────────────────┼───────────────┤\n",
       "│ max_pooling2d_1 (<span style=\"color: #0087ff; text-decoration-color: #0087ff\">MaxPooling2D</span>)  │ (<span style=\"color: #00d7ff; text-decoration-color: #00d7ff\">None</span>, <span style=\"color: #00af00; text-decoration-color: #00af00\">12</span>, <span style=\"color: #00af00; text-decoration-color: #00af00\">12</span>, <span style=\"color: #00af00; text-decoration-color: #00af00\">64</span>)     │             <span style=\"color: #00af00; text-decoration-color: #00af00\">0</span> │\n",
       "├─────────────────────────────────┼────────────────────────┼───────────────┤\n",
       "│ dropout_1 (<span style=\"color: #0087ff; text-decoration-color: #0087ff\">Dropout</span>)             │ (<span style=\"color: #00d7ff; text-decoration-color: #00d7ff\">None</span>, <span style=\"color: #00af00; text-decoration-color: #00af00\">12</span>, <span style=\"color: #00af00; text-decoration-color: #00af00\">12</span>, <span style=\"color: #00af00; text-decoration-color: #00af00\">64</span>)     │             <span style=\"color: #00af00; text-decoration-color: #00af00\">0</span> │\n",
       "├─────────────────────────────────┼────────────────────────┼───────────────┤\n",
       "│ conv2d_2 (<span style=\"color: #0087ff; text-decoration-color: #0087ff\">Conv2D</span>)               │ (<span style=\"color: #00d7ff; text-decoration-color: #00d7ff\">None</span>, <span style=\"color: #00af00; text-decoration-color: #00af00\">12</span>, <span style=\"color: #00af00; text-decoration-color: #00af00\">12</span>, <span style=\"color: #00af00; text-decoration-color: #00af00\">128</span>)    │        <span style=\"color: #00af00; text-decoration-color: #00af00\">73,856</span> │\n",
       "├─────────────────────────────────┼────────────────────────┼───────────────┤\n",
       "│ batch_normalization_2           │ (<span style=\"color: #00d7ff; text-decoration-color: #00d7ff\">None</span>, <span style=\"color: #00af00; text-decoration-color: #00af00\">12</span>, <span style=\"color: #00af00; text-decoration-color: #00af00\">12</span>, <span style=\"color: #00af00; text-decoration-color: #00af00\">128</span>)    │           <span style=\"color: #00af00; text-decoration-color: #00af00\">512</span> │\n",
       "│ (<span style=\"color: #0087ff; text-decoration-color: #0087ff\">BatchNormalization</span>)            │                        │               │\n",
       "├─────────────────────────────────┼────────────────────────┼───────────────┤\n",
       "│ max_pooling2d_2 (<span style=\"color: #0087ff; text-decoration-color: #0087ff\">MaxPooling2D</span>)  │ (<span style=\"color: #00d7ff; text-decoration-color: #00d7ff\">None</span>, <span style=\"color: #00af00; text-decoration-color: #00af00\">6</span>, <span style=\"color: #00af00; text-decoration-color: #00af00\">6</span>, <span style=\"color: #00af00; text-decoration-color: #00af00\">128</span>)      │             <span style=\"color: #00af00; text-decoration-color: #00af00\">0</span> │\n",
       "├─────────────────────────────────┼────────────────────────┼───────────────┤\n",
       "│ dropout_2 (<span style=\"color: #0087ff; text-decoration-color: #0087ff\">Dropout</span>)             │ (<span style=\"color: #00d7ff; text-decoration-color: #00d7ff\">None</span>, <span style=\"color: #00af00; text-decoration-color: #00af00\">6</span>, <span style=\"color: #00af00; text-decoration-color: #00af00\">6</span>, <span style=\"color: #00af00; text-decoration-color: #00af00\">128</span>)      │             <span style=\"color: #00af00; text-decoration-color: #00af00\">0</span> │\n",
       "├─────────────────────────────────┼────────────────────────┼───────────────┤\n",
       "│ flatten (<span style=\"color: #0087ff; text-decoration-color: #0087ff\">Flatten</span>)               │ (<span style=\"color: #00d7ff; text-decoration-color: #00d7ff\">None</span>, <span style=\"color: #00af00; text-decoration-color: #00af00\">4608</span>)           │             <span style=\"color: #00af00; text-decoration-color: #00af00\">0</span> │\n",
       "├─────────────────────────────────┼────────────────────────┼───────────────┤\n",
       "│ dense (<span style=\"color: #0087ff; text-decoration-color: #0087ff\">Dense</span>)                   │ (<span style=\"color: #00d7ff; text-decoration-color: #00d7ff\">None</span>, <span style=\"color: #00af00; text-decoration-color: #00af00\">128</span>)            │       <span style=\"color: #00af00; text-decoration-color: #00af00\">589,952</span> │\n",
       "├─────────────────────────────────┼────────────────────────┼───────────────┤\n",
       "│ batch_normalization_3           │ (<span style=\"color: #00d7ff; text-decoration-color: #00d7ff\">None</span>, <span style=\"color: #00af00; text-decoration-color: #00af00\">128</span>)            │           <span style=\"color: #00af00; text-decoration-color: #00af00\">512</span> │\n",
       "│ (<span style=\"color: #0087ff; text-decoration-color: #0087ff\">BatchNormalization</span>)            │                        │               │\n",
       "├─────────────────────────────────┼────────────────────────┼───────────────┤\n",
       "│ dropout_3 (<span style=\"color: #0087ff; text-decoration-color: #0087ff\">Dropout</span>)             │ (<span style=\"color: #00d7ff; text-decoration-color: #00d7ff\">None</span>, <span style=\"color: #00af00; text-decoration-color: #00af00\">128</span>)            │             <span style=\"color: #00af00; text-decoration-color: #00af00\">0</span> │\n",
       "├─────────────────────────────────┼────────────────────────┼───────────────┤\n",
       "│ dense_1 (<span style=\"color: #0087ff; text-decoration-color: #0087ff\">Dense</span>)                 │ (<span style=\"color: #00d7ff; text-decoration-color: #00d7ff\">None</span>, <span style=\"color: #00af00; text-decoration-color: #00af00\">7</span>)              │           <span style=\"color: #00af00; text-decoration-color: #00af00\">903</span> │\n",
       "└─────────────────────────────────┴────────────────────────┴───────────────┘\n",
       "</pre>\n"
      ],
      "text/plain": [
       "┏━━━━━━━━━━━━━━━━━━━━━━━━━━━━━━━━━┳━━━━━━━━━━━━━━━━━━━━━━━━┳━━━━━━━━━━━━━━━┓\n",
       "┃\u001b[1m \u001b[0m\u001b[1mLayer (type)                   \u001b[0m\u001b[1m \u001b[0m┃\u001b[1m \u001b[0m\u001b[1mOutput Shape          \u001b[0m\u001b[1m \u001b[0m┃\u001b[1m \u001b[0m\u001b[1m      Param #\u001b[0m\u001b[1m \u001b[0m┃\n",
       "┡━━━━━━━━━━━━━━━━━━━━━━━━━━━━━━━━━╇━━━━━━━━━━━━━━━━━━━━━━━━╇━━━━━━━━━━━━━━━┩\n",
       "│ conv2d (\u001b[38;5;33mConv2D\u001b[0m)                 │ (\u001b[38;5;45mNone\u001b[0m, \u001b[38;5;34m48\u001b[0m, \u001b[38;5;34m48\u001b[0m, \u001b[38;5;34m32\u001b[0m)     │           \u001b[38;5;34m320\u001b[0m │\n",
       "├─────────────────────────────────┼────────────────────────┼───────────────┤\n",
       "│ batch_normalization             │ (\u001b[38;5;45mNone\u001b[0m, \u001b[38;5;34m48\u001b[0m, \u001b[38;5;34m48\u001b[0m, \u001b[38;5;34m32\u001b[0m)     │           \u001b[38;5;34m128\u001b[0m │\n",
       "│ (\u001b[38;5;33mBatchNormalization\u001b[0m)            │                        │               │\n",
       "├─────────────────────────────────┼────────────────────────┼───────────────┤\n",
       "│ max_pooling2d (\u001b[38;5;33mMaxPooling2D\u001b[0m)    │ (\u001b[38;5;45mNone\u001b[0m, \u001b[38;5;34m24\u001b[0m, \u001b[38;5;34m24\u001b[0m, \u001b[38;5;34m32\u001b[0m)     │             \u001b[38;5;34m0\u001b[0m │\n",
       "├─────────────────────────────────┼────────────────────────┼───────────────┤\n",
       "│ dropout (\u001b[38;5;33mDropout\u001b[0m)               │ (\u001b[38;5;45mNone\u001b[0m, \u001b[38;5;34m24\u001b[0m, \u001b[38;5;34m24\u001b[0m, \u001b[38;5;34m32\u001b[0m)     │             \u001b[38;5;34m0\u001b[0m │\n",
       "├─────────────────────────────────┼────────────────────────┼───────────────┤\n",
       "│ conv2d_1 (\u001b[38;5;33mConv2D\u001b[0m)               │ (\u001b[38;5;45mNone\u001b[0m, \u001b[38;5;34m24\u001b[0m, \u001b[38;5;34m24\u001b[0m, \u001b[38;5;34m64\u001b[0m)     │        \u001b[38;5;34m18,496\u001b[0m │\n",
       "├─────────────────────────────────┼────────────────────────┼───────────────┤\n",
       "│ batch_normalization_1           │ (\u001b[38;5;45mNone\u001b[0m, \u001b[38;5;34m24\u001b[0m, \u001b[38;5;34m24\u001b[0m, \u001b[38;5;34m64\u001b[0m)     │           \u001b[38;5;34m256\u001b[0m │\n",
       "│ (\u001b[38;5;33mBatchNormalization\u001b[0m)            │                        │               │\n",
       "├─────────────────────────────────┼────────────────────────┼───────────────┤\n",
       "│ max_pooling2d_1 (\u001b[38;5;33mMaxPooling2D\u001b[0m)  │ (\u001b[38;5;45mNone\u001b[0m, \u001b[38;5;34m12\u001b[0m, \u001b[38;5;34m12\u001b[0m, \u001b[38;5;34m64\u001b[0m)     │             \u001b[38;5;34m0\u001b[0m │\n",
       "├─────────────────────────────────┼────────────────────────┼───────────────┤\n",
       "│ dropout_1 (\u001b[38;5;33mDropout\u001b[0m)             │ (\u001b[38;5;45mNone\u001b[0m, \u001b[38;5;34m12\u001b[0m, \u001b[38;5;34m12\u001b[0m, \u001b[38;5;34m64\u001b[0m)     │             \u001b[38;5;34m0\u001b[0m │\n",
       "├─────────────────────────────────┼────────────────────────┼───────────────┤\n",
       "│ conv2d_2 (\u001b[38;5;33mConv2D\u001b[0m)               │ (\u001b[38;5;45mNone\u001b[0m, \u001b[38;5;34m12\u001b[0m, \u001b[38;5;34m12\u001b[0m, \u001b[38;5;34m128\u001b[0m)    │        \u001b[38;5;34m73,856\u001b[0m │\n",
       "├─────────────────────────────────┼────────────────────────┼───────────────┤\n",
       "│ batch_normalization_2           │ (\u001b[38;5;45mNone\u001b[0m, \u001b[38;5;34m12\u001b[0m, \u001b[38;5;34m12\u001b[0m, \u001b[38;5;34m128\u001b[0m)    │           \u001b[38;5;34m512\u001b[0m │\n",
       "│ (\u001b[38;5;33mBatchNormalization\u001b[0m)            │                        │               │\n",
       "├─────────────────────────────────┼────────────────────────┼───────────────┤\n",
       "│ max_pooling2d_2 (\u001b[38;5;33mMaxPooling2D\u001b[0m)  │ (\u001b[38;5;45mNone\u001b[0m, \u001b[38;5;34m6\u001b[0m, \u001b[38;5;34m6\u001b[0m, \u001b[38;5;34m128\u001b[0m)      │             \u001b[38;5;34m0\u001b[0m │\n",
       "├─────────────────────────────────┼────────────────────────┼───────────────┤\n",
       "│ dropout_2 (\u001b[38;5;33mDropout\u001b[0m)             │ (\u001b[38;5;45mNone\u001b[0m, \u001b[38;5;34m6\u001b[0m, \u001b[38;5;34m6\u001b[0m, \u001b[38;5;34m128\u001b[0m)      │             \u001b[38;5;34m0\u001b[0m │\n",
       "├─────────────────────────────────┼────────────────────────┼───────────────┤\n",
       "│ flatten (\u001b[38;5;33mFlatten\u001b[0m)               │ (\u001b[38;5;45mNone\u001b[0m, \u001b[38;5;34m4608\u001b[0m)           │             \u001b[38;5;34m0\u001b[0m │\n",
       "├─────────────────────────────────┼────────────────────────┼───────────────┤\n",
       "│ dense (\u001b[38;5;33mDense\u001b[0m)                   │ (\u001b[38;5;45mNone\u001b[0m, \u001b[38;5;34m128\u001b[0m)            │       \u001b[38;5;34m589,952\u001b[0m │\n",
       "├─────────────────────────────────┼────────────────────────┼───────────────┤\n",
       "│ batch_normalization_3           │ (\u001b[38;5;45mNone\u001b[0m, \u001b[38;5;34m128\u001b[0m)            │           \u001b[38;5;34m512\u001b[0m │\n",
       "│ (\u001b[38;5;33mBatchNormalization\u001b[0m)            │                        │               │\n",
       "├─────────────────────────────────┼────────────────────────┼───────────────┤\n",
       "│ dropout_3 (\u001b[38;5;33mDropout\u001b[0m)             │ (\u001b[38;5;45mNone\u001b[0m, \u001b[38;5;34m128\u001b[0m)            │             \u001b[38;5;34m0\u001b[0m │\n",
       "├─────────────────────────────────┼────────────────────────┼───────────────┤\n",
       "│ dense_1 (\u001b[38;5;33mDense\u001b[0m)                 │ (\u001b[38;5;45mNone\u001b[0m, \u001b[38;5;34m7\u001b[0m)              │           \u001b[38;5;34m903\u001b[0m │\n",
       "└─────────────────────────────────┴────────────────────────┴───────────────┘\n"
      ]
     },
     "metadata": {},
     "output_type": "display_data"
    },
    {
     "data": {
      "text/html": [
       "<pre style=\"white-space:pre;overflow-x:auto;line-height:normal;font-family:Menlo,'DejaVu Sans Mono',consolas,'Courier New',monospace\"><span style=\"font-weight: bold\"> Total params: </span><span style=\"color: #00af00; text-decoration-color: #00af00\">684,935</span> (2.61 MB)\n",
       "</pre>\n"
      ],
      "text/plain": [
       "\u001b[1m Total params: \u001b[0m\u001b[38;5;34m684,935\u001b[0m (2.61 MB)\n"
      ]
     },
     "metadata": {},
     "output_type": "display_data"
    },
    {
     "data": {
      "text/html": [
       "<pre style=\"white-space:pre;overflow-x:auto;line-height:normal;font-family:Menlo,'DejaVu Sans Mono',consolas,'Courier New',monospace\"><span style=\"font-weight: bold\"> Trainable params: </span><span style=\"color: #00af00; text-decoration-color: #00af00\">684,231</span> (2.61 MB)\n",
       "</pre>\n"
      ],
      "text/plain": [
       "\u001b[1m Trainable params: \u001b[0m\u001b[38;5;34m684,231\u001b[0m (2.61 MB)\n"
      ]
     },
     "metadata": {},
     "output_type": "display_data"
    },
    {
     "data": {
      "text/html": [
       "<pre style=\"white-space:pre;overflow-x:auto;line-height:normal;font-family:Menlo,'DejaVu Sans Mono',consolas,'Courier New',monospace\"><span style=\"font-weight: bold\"> Non-trainable params: </span><span style=\"color: #00af00; text-decoration-color: #00af00\">704</span> (2.75 KB)\n",
       "</pre>\n"
      ],
      "text/plain": [
       "\u001b[1m Non-trainable params: \u001b[0m\u001b[38;5;34m704\u001b[0m (2.75 KB)\n"
      ]
     },
     "metadata": {},
     "output_type": "display_data"
    }
   ],
   "source": [
    "# Cell 2 - Change input_shape if needed (48,48,1 for FER-2013)\n",
    "def build_cnn(input_shape=(48,48,1), n_classes=7):\n",
    "    model = models.Sequential([\n",
    "        layers.Input(shape=input_shape),\n",
    "\n",
    "        layers.Conv2D(32, (3,3), activation='relu', padding='same'),\n",
    "        layers.BatchNormalization(),\n",
    "        layers.MaxPooling2D((2,2)),\n",
    "        layers.Dropout(0.25),\n",
    "\n",
    "        layers.Conv2D(64, (3,3), activation='relu', padding='same'),\n",
    "        layers.BatchNormalization(),\n",
    "        layers.MaxPooling2D((2,2)),\n",
    "        layers.Dropout(0.25),\n",
    "\n",
    "        layers.Conv2D(128, (3,3), activation='relu', padding='same'),\n",
    "        layers.BatchNormalization(),\n",
    "        layers.MaxPooling2D((2,2)),\n",
    "        layers.Dropout(0.4),\n",
    "\n",
    "        layers.Flatten(),\n",
    "        layers.Dense(128, activation='relu'),\n",
    "        layers.BatchNormalization(),\n",
    "        layers.Dropout(0.5),\n",
    "\n",
    "        layers.Dense(n_classes, activation='softmax')\n",
    "    ])\n",
    "    model.compile(optimizer=optimizers.Adam(learning_rate=1e-3),\n",
    "                  loss='categorical_crossentropy',\n",
    "                  metrics=['accuracy'])\n",
    "    return model\n",
    "\n",
    "# Example build\n",
    "cnn = build_cnn()\n",
    "cnn.summary()\n"
   ]
  },
  {
   "cell_type": "code",
   "execution_count": 21,
   "id": "3f0594be-b6cc-40ac-91f5-94d08804be2d",
   "metadata": {},
   "outputs": [
    {
     "name": "stdout",
     "output_type": "stream",
     "text": [
      "Using generator path\n",
      "Class weights: {np.int32(0): np.float64(1.0266404434114071), np.int32(1): np.float64(9.401555464592715), np.int32(2): np.float64(1.0009587727708533), np.int32(3): np.float64(0.5684585684585685), np.int32(4): np.float64(0.826068191627104), np.int32(5): np.float64(0.8491570541259982), np.int32(6): np.float64(1.2933160650937552)}\n"
     ]
    }
   ],
   "source": [
    "\n",
    "print(\"Using generator path\" if 'train_data' in globals() else \"No train_data detected\")\n",
    "if 'train_data' in globals():\n",
    "    train_classes = train_data.classes  # array of integer labels\n",
    "    classes_unique = np.unique(train_classes)\n",
    "    cw = compute_class_weight('balanced', classes=classes_unique, y=train_classes)\n",
    "    class_weights = dict(zip(classes_unique, cw))\n",
    "    print(\"Class weights:\", class_weights)\n",
    "else:\n",
    "    class_weight = None\n"
   ]
  },
  {
   "cell_type": "code",
   "execution_count": 22,
   "id": "f0b962ca-195a-4074-8df0-4d0d04dca96f",
   "metadata": {},
   "outputs": [],
   "source": [
    "\n",
    "es = callbacks.EarlyStopping(monitor='val_loss', patience=6, restore_best_weights=True)\n",
    "mc_path = \"fer_cnn_best.keras\"\n",
    "mc = callbacks.ModelCheckpoint(mc_path, monitor='val_loss', save_best_only=True)\n",
    "rlr = callbacks.ReduceLROnPlateau(monitor='val_loss', factor=0.5, patience=3, min_lr=1e-6)\n",
    "\n",
    "EPOCHS = 40\n",
    "BATCH_SIZE = 64"
   ]
  },
  {
   "cell_type": "code",
   "execution_count": 23,
   "id": "72e2ea06-18ab-4612-8fd5-7586d4c4b234",
   "metadata": {},
   "outputs": [],
   "source": [
    "if 'train_data' in globals():\n",
    "    model = build_cnn(input_shape=(48,48,1), n_classes=train_data.num_classes)\n",
    "\n",
    "    steps_per_epoch = math.ceil(train_data.n / train_data.batch_size)\n",
    "    validation_steps = math.ceil(val_data.n / val_data.batch_size)\n"
   ]
  },
  {
   "cell_type": "code",
   "execution_count": 24,
   "id": "b9ae0f39-dca2-416c-a99d-6bb19395e80e",
   "metadata": {},
   "outputs": [
    {
     "name": "stderr",
     "output_type": "stream",
     "text": [
      "C:\\Users\\avija\\Downloads\\FER2013\\tfvenv2\\Lib\\site-packages\\keras\\src\\trainers\\data_adapters\\py_dataset_adapter.py:121: UserWarning: Your `PyDataset` class should call `super().__init__(**kwargs)` in its constructor. `**kwargs` can include `workers`, `use_multiprocessing`, `max_queue_size`. Do not pass these arguments to `fit()`, as they will be ignored.\n",
      "  self._warn_if_super_not_called()\n"
     ]
    },
    {
     "name": "stdout",
     "output_type": "stream",
     "text": [
      "Epoch 1/40\n",
      "\u001b[1m359/359\u001b[0m \u001b[32m━━━━━━━━━━━━━━━━━━━━\u001b[0m\u001b[37m\u001b[0m \u001b[1m99s\u001b[0m 247ms/step - accuracy: 0.1844 - loss: 2.3293 - val_accuracy: 0.1089 - val_loss: 3.0062 - learning_rate: 0.0010\n",
      "Epoch 2/40\n",
      "\u001b[1m359/359\u001b[0m \u001b[32m━━━━━━━━━━━━━━━━━━━━\u001b[0m\u001b[37m\u001b[0m \u001b[1m44s\u001b[0m 122ms/step - accuracy: 0.2482 - loss: 1.9222 - val_accuracy: 0.2698 - val_loss: 1.8514 - learning_rate: 0.0010\n",
      "Epoch 3/40\n",
      "\u001b[1m359/359\u001b[0m \u001b[32m━━━━━━━━━━━━━━━━━━━━\u001b[0m\u001b[37m\u001b[0m \u001b[1m43s\u001b[0m 121ms/step - accuracy: 0.2918 - loss: 1.7595 - val_accuracy: 0.2634 - val_loss: 1.9650 - learning_rate: 0.0010\n",
      "Epoch 4/40\n",
      "\u001b[1m359/359\u001b[0m \u001b[32m━━━━━━━━━━━━━━━━━━━━\u001b[0m\u001b[37m\u001b[0m \u001b[1m43s\u001b[0m 121ms/step - accuracy: 0.3237 - loss: 1.7133 - val_accuracy: 0.3928 - val_loss: 1.6061 - learning_rate: 0.0010\n",
      "Epoch 5/40\n",
      "\u001b[1m359/359\u001b[0m \u001b[32m━━━━━━━━━━━━━━━━━━━━\u001b[0m\u001b[37m\u001b[0m \u001b[1m45s\u001b[0m 124ms/step - accuracy: 0.3470 - loss: 1.6564 - val_accuracy: 0.3771 - val_loss: 1.6316 - learning_rate: 0.0010\n",
      "Epoch 6/40\n",
      "\u001b[1m359/359\u001b[0m \u001b[32m━━━━━━━━━━━━━━━━━━━━\u001b[0m\u001b[37m\u001b[0m \u001b[1m44s\u001b[0m 121ms/step - accuracy: 0.3675 - loss: 1.6155 - val_accuracy: 0.3796 - val_loss: 1.6005 - learning_rate: 0.0010\n",
      "Epoch 7/40\n",
      "\u001b[1m359/359\u001b[0m \u001b[32m━━━━━━━━━━━━━━━━━━━━\u001b[0m\u001b[37m\u001b[0m \u001b[1m43s\u001b[0m 121ms/step - accuracy: 0.3839 - loss: 1.5742 - val_accuracy: 0.3222 - val_loss: 1.6975 - learning_rate: 0.0010\n",
      "Epoch 8/40\n",
      "\u001b[1m359/359\u001b[0m \u001b[32m━━━━━━━━━━━━━━━━━━━━\u001b[0m\u001b[37m\u001b[0m \u001b[1m44s\u001b[0m 122ms/step - accuracy: 0.3838 - loss: 1.5798 - val_accuracy: 0.4020 - val_loss: 1.5720 - learning_rate: 0.0010\n",
      "Epoch 9/40\n",
      "\u001b[1m359/359\u001b[0m \u001b[32m━━━━━━━━━━━━━━━━━━━━\u001b[0m\u001b[37m\u001b[0m \u001b[1m45s\u001b[0m 125ms/step - accuracy: 0.3974 - loss: 1.5354 - val_accuracy: 0.4161 - val_loss: 1.4950 - learning_rate: 0.0010\n",
      "Epoch 10/40\n",
      "\u001b[1m359/359\u001b[0m \u001b[32m━━━━━━━━━━━━━━━━━━━━\u001b[0m\u001b[37m\u001b[0m \u001b[1m43s\u001b[0m 121ms/step - accuracy: 0.4141 - loss: 1.5107 - val_accuracy: 0.3961 - val_loss: 1.5660 - learning_rate: 0.0010\n",
      "Epoch 11/40\n",
      "\u001b[1m359/359\u001b[0m \u001b[32m━━━━━━━━━━━━━━━━━━━━\u001b[0m\u001b[37m\u001b[0m \u001b[1m46s\u001b[0m 128ms/step - accuracy: 0.4193 - loss: 1.4882 - val_accuracy: 0.4339 - val_loss: 1.4792 - learning_rate: 0.0010\n",
      "Epoch 12/40\n",
      "\u001b[1m359/359\u001b[0m \u001b[32m━━━━━━━━━━━━━━━━━━━━\u001b[0m\u001b[37m\u001b[0m \u001b[1m44s\u001b[0m 121ms/step - accuracy: 0.4257 - loss: 1.4746 - val_accuracy: 0.4374 - val_loss: 1.4689 - learning_rate: 0.0010\n",
      "Epoch 13/40\n",
      "\u001b[1m359/359\u001b[0m \u001b[32m━━━━━━━━━━━━━━━━━━━━\u001b[0m\u001b[37m\u001b[0m \u001b[1m44s\u001b[0m 123ms/step - accuracy: 0.4253 - loss: 1.4651 - val_accuracy: 0.4736 - val_loss: 1.3865 - learning_rate: 0.0010\n",
      "Epoch 14/40\n",
      "\u001b[1m359/359\u001b[0m \u001b[32m━━━━━━━━━━━━━━━━━━━━\u001b[0m\u001b[37m\u001b[0m \u001b[1m44s\u001b[0m 123ms/step - accuracy: 0.4325 - loss: 1.4544 - val_accuracy: 0.3654 - val_loss: 1.6161 - learning_rate: 0.0010\n",
      "Epoch 15/40\n",
      "\u001b[1m359/359\u001b[0m \u001b[32m━━━━━━━━━━━━━━━━━━━━\u001b[0m\u001b[37m\u001b[0m \u001b[1m42s\u001b[0m 118ms/step - accuracy: 0.4414 - loss: 1.4390 - val_accuracy: 0.4443 - val_loss: 1.4916 - learning_rate: 0.0010\n",
      "Epoch 16/40\n",
      "\u001b[1m359/359\u001b[0m \u001b[32m━━━━━━━━━━━━━━━━━━━━\u001b[0m\u001b[37m\u001b[0m \u001b[1m44s\u001b[0m 124ms/step - accuracy: 0.4516 - loss: 1.4180 - val_accuracy: 0.4346 - val_loss: 1.4415 - learning_rate: 0.0010\n",
      "Epoch 17/40\n",
      "\u001b[1m359/359\u001b[0m \u001b[32m━━━━━━━━━━━━━━━━━━━━\u001b[0m\u001b[37m\u001b[0m \u001b[1m42s\u001b[0m 118ms/step - accuracy: 0.4535 - loss: 1.3806 - val_accuracy: 0.4769 - val_loss: 1.3518 - learning_rate: 5.0000e-04\n",
      "Epoch 18/40\n",
      "\u001b[1m359/359\u001b[0m \u001b[32m━━━━━━━━━━━━━━━━━━━━\u001b[0m\u001b[37m\u001b[0m \u001b[1m44s\u001b[0m 122ms/step - accuracy: 0.4655 - loss: 1.3861 - val_accuracy: 0.4762 - val_loss: 1.3641 - learning_rate: 5.0000e-04\n",
      "Epoch 19/40\n",
      "\u001b[1m359/359\u001b[0m \u001b[32m━━━━━━━━━━━━━━━━━━━━\u001b[0m\u001b[37m\u001b[0m \u001b[1m43s\u001b[0m 120ms/step - accuracy: 0.4663 - loss: 1.3650 - val_accuracy: 0.4966 - val_loss: 1.3193 - learning_rate: 5.0000e-04\n",
      "Epoch 20/40\n",
      "\u001b[1m359/359\u001b[0m \u001b[32m━━━━━━━━━━━━━━━━━━━━\u001b[0m\u001b[37m\u001b[0m \u001b[1m43s\u001b[0m 120ms/step - accuracy: 0.4672 - loss: 1.3621 - val_accuracy: 0.4619 - val_loss: 1.4048 - learning_rate: 5.0000e-04\n",
      "Epoch 21/40\n",
      "\u001b[1m359/359\u001b[0m \u001b[32m━━━━━━━━━━━━━━━━━━━━\u001b[0m\u001b[37m\u001b[0m \u001b[1m45s\u001b[0m 126ms/step - accuracy: 0.4732 - loss: 1.3425 - val_accuracy: 0.4931 - val_loss: 1.3199 - learning_rate: 5.0000e-04\n",
      "Epoch 22/40\n",
      "\u001b[1m359/359\u001b[0m \u001b[32m━━━━━━━━━━━━━━━━━━━━\u001b[0m\u001b[37m\u001b[0m \u001b[1m44s\u001b[0m 123ms/step - accuracy: 0.4727 - loss: 1.3473 - val_accuracy: 0.5020 - val_loss: 1.3055 - learning_rate: 5.0000e-04\n",
      "Epoch 23/40\n",
      "\u001b[1m359/359\u001b[0m \u001b[32m━━━━━━━━━━━━━━━━━━━━\u001b[0m\u001b[37m\u001b[0m \u001b[1m44s\u001b[0m 122ms/step - accuracy: 0.4755 - loss: 1.3316 - val_accuracy: 0.5071 - val_loss: 1.3090 - learning_rate: 5.0000e-04\n",
      "Epoch 24/40\n",
      "\u001b[1m359/359\u001b[0m \u001b[32m━━━━━━━━━━━━━━━━━━━━\u001b[0m\u001b[37m\u001b[0m \u001b[1m44s\u001b[0m 124ms/step - accuracy: 0.4809 - loss: 1.3124 - val_accuracy: 0.5177 - val_loss: 1.2640 - learning_rate: 5.0000e-04\n",
      "Epoch 25/40\n",
      "\u001b[1m359/359\u001b[0m \u001b[32m━━━━━━━━━━━━━━━━━━━━\u001b[0m\u001b[37m\u001b[0m \u001b[1m43s\u001b[0m 120ms/step - accuracy: 0.4837 - loss: 1.3231 - val_accuracy: 0.5142 - val_loss: 1.3031 - learning_rate: 5.0000e-04\n",
      "Epoch 26/40\n",
      "\u001b[1m359/359\u001b[0m \u001b[32m━━━━━━━━━━━━━━━━━━━━\u001b[0m\u001b[37m\u001b[0m \u001b[1m43s\u001b[0m 120ms/step - accuracy: 0.4778 - loss: 1.3314 - val_accuracy: 0.5029 - val_loss: 1.3067 - learning_rate: 5.0000e-04\n",
      "Epoch 27/40\n",
      "\u001b[1m359/359\u001b[0m \u001b[32m━━━━━━━━━━━━━━━━━━━━\u001b[0m\u001b[37m\u001b[0m \u001b[1m44s\u001b[0m 122ms/step - accuracy: 0.4892 - loss: 1.3073 - val_accuracy: 0.4975 - val_loss: 1.3130 - learning_rate: 5.0000e-04\n",
      "Epoch 28/40\n",
      "\u001b[1m359/359\u001b[0m \u001b[32m━━━━━━━━━━━━━━━━━━━━\u001b[0m\u001b[37m\u001b[0m \u001b[1m43s\u001b[0m 121ms/step - accuracy: 0.4885 - loss: 1.3030 - val_accuracy: 0.5233 - val_loss: 1.2719 - learning_rate: 2.5000e-04\n",
      "Epoch 29/40\n",
      "\u001b[1m359/359\u001b[0m \u001b[32m━━━━━━━━━━━━━━━━━━━━\u001b[0m\u001b[37m\u001b[0m \u001b[1m44s\u001b[0m 124ms/step - accuracy: 0.4967 - loss: 1.2923 - val_accuracy: 0.5313 - val_loss: 1.2427 - learning_rate: 2.5000e-04\n",
      "Epoch 30/40\n",
      "\u001b[1m359/359\u001b[0m \u001b[32m━━━━━━━━━━━━━━━━━━━━\u001b[0m\u001b[37m\u001b[0m \u001b[1m45s\u001b[0m 126ms/step - accuracy: 0.4977 - loss: 1.2743 - val_accuracy: 0.5184 - val_loss: 1.2625 - learning_rate: 2.5000e-04\n",
      "Epoch 31/40\n",
      "\u001b[1m359/359\u001b[0m \u001b[32m━━━━━━━━━━━━━━━━━━━━\u001b[0m\u001b[37m\u001b[0m \u001b[1m45s\u001b[0m 126ms/step - accuracy: 0.4960 - loss: 1.2736 - val_accuracy: 0.5111 - val_loss: 1.2829 - learning_rate: 2.5000e-04\n",
      "Epoch 32/40\n",
      "\u001b[1m359/359\u001b[0m \u001b[32m━━━━━━━━━━━━━━━━━━━━\u001b[0m\u001b[37m\u001b[0m \u001b[1m46s\u001b[0m 128ms/step - accuracy: 0.5010 - loss: 1.2751 - val_accuracy: 0.5306 - val_loss: 1.2399 - learning_rate: 2.5000e-04\n",
      "Epoch 33/40\n",
      "\u001b[1m359/359\u001b[0m \u001b[32m━━━━━━━━━━━━━━━━━━━━\u001b[0m\u001b[37m\u001b[0m \u001b[1m44s\u001b[0m 123ms/step - accuracy: 0.5027 - loss: 1.2666 - val_accuracy: 0.5149 - val_loss: 1.2770 - learning_rate: 2.5000e-04\n",
      "Epoch 34/40\n",
      "\u001b[1m359/359\u001b[0m \u001b[32m━━━━━━━━━━━━━━━━━━━━\u001b[0m\u001b[37m\u001b[0m \u001b[1m44s\u001b[0m 122ms/step - accuracy: 0.5061 - loss: 1.2539 - val_accuracy: 0.5274 - val_loss: 1.2482 - learning_rate: 2.5000e-04\n",
      "Epoch 35/40\n",
      "\u001b[1m359/359\u001b[0m \u001b[32m━━━━━━━━━━━━━━━━━━━━\u001b[0m\u001b[37m\u001b[0m \u001b[1m47s\u001b[0m 132ms/step - accuracy: 0.5008 - loss: 1.2568 - val_accuracy: 0.5285 - val_loss: 1.2378 - learning_rate: 2.5000e-04\n",
      "Epoch 36/40\n",
      "\u001b[1m359/359\u001b[0m \u001b[32m━━━━━━━━━━━━━━━━━━━━\u001b[0m\u001b[37m\u001b[0m \u001b[1m45s\u001b[0m 124ms/step - accuracy: 0.5063 - loss: 1.2558 - val_accuracy: 0.5292 - val_loss: 1.2378 - learning_rate: 2.5000e-04\n",
      "Epoch 37/40\n",
      "\u001b[1m359/359\u001b[0m \u001b[32m━━━━━━━━━━━━━━━━━━━━\u001b[0m\u001b[37m\u001b[0m \u001b[1m43s\u001b[0m 120ms/step - accuracy: 0.5040 - loss: 1.2581 - val_accuracy: 0.5327 - val_loss: 1.2428 - learning_rate: 2.5000e-04\n",
      "Epoch 38/40\n",
      "\u001b[1m359/359\u001b[0m \u001b[32m━━━━━━━━━━━━━━━━━━━━\u001b[0m\u001b[37m\u001b[0m \u001b[1m43s\u001b[0m 120ms/step - accuracy: 0.5048 - loss: 1.2499 - val_accuracy: 0.5241 - val_loss: 1.2343 - learning_rate: 2.5000e-04\n",
      "Epoch 39/40\n",
      "\u001b[1m359/359\u001b[0m \u001b[32m━━━━━━━━━━━━━━━━━━━━\u001b[0m\u001b[37m\u001b[0m \u001b[1m47s\u001b[0m 132ms/step - accuracy: 0.5072 - loss: 1.2416 - val_accuracy: 0.5264 - val_loss: 1.2431 - learning_rate: 2.5000e-04\n",
      "Epoch 40/40\n",
      "\u001b[1m359/359\u001b[0m \u001b[32m━━━━━━━━━━━━━━━━━━━━\u001b[0m\u001b[37m\u001b[0m \u001b[1m44s\u001b[0m 122ms/step - accuracy: 0.5095 - loss: 1.2404 - val_accuracy: 0.5290 - val_loss: 1.2246 - learning_rate: 2.5000e-04\n"
     ]
    }
   ],
   "source": [
    "history = model.fit(\n",
    "    train_data,\n",
    "    steps_per_epoch=steps_per_epoch,\n",
    "    validation_data=val_data,\n",
    "    validation_steps=validation_steps,\n",
    "    epochs=EPOCHS,\n",
    "    class_weight=class_weights,\n",
    "    callbacks=[es, mc ,rlr],\n",
    "    verbose=1\n",
    ")"
   ]
  },
  {
   "cell_type": "code",
   "execution_count": 25,
   "id": "cba312b0-1449-4715-8ae6-60f47167a0c6",
   "metadata": {},
   "outputs": [
    {
     "name": "stdout",
     "output_type": "stream",
     "text": [
      "\u001b[1m113/113\u001b[0m \u001b[32m━━━━━━━━━━━━━━━━━━━━\u001b[0m\u001b[37m\u001b[0m \u001b[1m8s\u001b[0m 74ms/step - accuracy: 0.5588 - loss: 1.1559\n",
      "Test loss: 1.1559, Test acc: 0.5588\n"
     ]
    }
   ],
   "source": [
    "\n",
    "if os.path.exists(mc_path):\n",
    "    model.load_weights(mc_path)\n",
    "\n",
    "# Evaluate\n",
    "if 'X_test' in globals():\n",
    "    loss, acc = model.evaluate(X_test, y_test, verbose=1)\n",
    "    print(f\"Test loss: {loss:.4f}, Test acc: {acc:.4f}\")\n",
    "elif 'test_data' in globals():\n",
    "    test_steps = math.ceil(test_data.n / test_data.batch_size)\n",
    "    loss, acc = model.evaluate(test_data, steps=test_steps, verbose=1)\n",
    "    print(f\"Test loss: {loss:.4f}, Test acc: {acc:.4f}\")\n",
    "\n",
    "\n"
   ]
  },
  {
   "cell_type": "code",
   "execution_count": 26,
   "id": "c621827c-a038-4341-81c3-c39fa34ac147",
   "metadata": {},
   "outputs": [
    {
     "data": {
      "image/png": "[encoded data removed]",
      "text/plain": [
       "<Figure size 1200x400 with 2 Axes>"
      ]
     },
     "metadata": {},
     "output_type": "display_data"
    }
   ],
   "source": [
    "if 'history' in globals():\n",
    "    plt.figure(figsize=(12,4))\n",
    "    plt.subplot(1,2,1)\n",
    "    plt.plot(history.history['loss'],label='train_loss')\n",
    "    plt.plot(history.history['val_loss'],label='val_loss')\n",
    "    plt.legend();plt.title(\"Loss\")\n",
    "    plt.subplot(1,2,2)\n",
    "    plt.plot(history.history['accuracy'],label='train_acc')\n",
    "    plt.plot(history.history['val_accuracy'],label='val_acc')\n",
    "    plt.legend();plt.title(\"Accuracy\")\n",
    "    plt.show()"
   ]
  },
  {
   "cell_type": "code",
   "execution_count": 27,
   "id": "1199b2ad-8e27-4c72-baf3-a37e63121546",
   "metadata": {},
   "outputs": [
    {
     "name": "stdout",
     "output_type": "stream",
     "text": [
      "\u001b[1m113/113\u001b[0m \u001b[32m━━━━━━━━━━━━━━━━━━━━\u001b[0m\u001b[37m\u001b[0m \u001b[1m3s\u001b[0m 27ms/step\n",
      "Saved predictions to fer_test_predictions.csv\n",
      "Saved model to fer_cnn_full_model.keras\n"
     ]
    }
   ],
   "source": [
    "\n",
    "emotion_map = {0:'angry',1:'disgust',2:'fear',3:'happy',4:'sad',5:'surprise',6:'neutral'}\n",
    "\n",
    "predictions = []\n",
    "if 'test_data' in globals():\n",
    "    \n",
    "    test_steps = math.ceil(test_data.n / test_data.batch_size)\n",
    "    probs = model.predict(test_data, steps=test_steps, verbose=1)\n",
    "    preds = np.argmax(probs, axis=1)\n",
    "    filenames = test_data.filenames  # relative paths from test_dir\n",
    "    \n",
    "    for fname, p, prob in zip(filenames, preds, probs):\n",
    "        predictions.append({\n",
    "            'filename': fname,\n",
    "            'predicted_label': int(p),\n",
    "            'predicted_emotion': emotion_map[int(p)],\n",
    "            'probabilities': prob.tolist()\n",
    "        })\n",
    "\n",
    "elif 'X_test' in globals():\n",
    "    probs = model.predict(X_test, verbose=1)\n",
    "    preds = np.argmax(probs, axis=1)\n",
    "    for i, (p, prob) in enumerate(zip(preds, probs)):\n",
    "        predictions.append({\n",
    "            'index': i,\n",
    "            'predicted_label': int(p),\n",
    "            'predicted_emotion': emotion_map[int(p)],\n",
    "            'probabilities': prob.tolist()\n",
    "        })\n",
    "\n",
    "\n",
    "pred_df = pd.DataFrame(predictions)\n",
    "pred_df.to_csv(\"fer_test_predictions.csv\", index=False)\n",
    "print(\"Saved predictions to fer_test_predictions.csv\")\n",
    "\n",
    "\n",
    "model.save(\"fer_cnn_full_model.keras\")\n",
    "print(\"Saved model to fer_cnn_full_model.keras\")\n"
   ]
  },
  {
   "cell_type": "code",
   "execution_count": 28,
   "id": "60d55248-7bae-4153-a113-749bf755b230",
   "metadata": {},
   "outputs": [
    {
     "name": "stdout",
     "output_type": "stream",
     "text": [
      "                                               Track                 Artist\n",
      "17937        for those about to rock (we salute you)                  ac/dc\n",
      "59978                              conductor (redux)           metal church\n",
      "34780                                      dyers eve              metallica\n",
      "14804                            block rockin' beats  the chemical brothers\n",
      "46871  cross me (feat. chance the rapper & pnb rock)             ed sheeran\n"
     ]
    }
   ],
   "source": [
    "\n",
    "preds = pd.read_csv(\"fer_test_predictions.csv\")\n",
    "sample = preds.iloc[0]\n",
    "emotion = sample['predicted_emotion']\n",
    "\n",
    "\n",
    "print(recommend_songs(emotion, n=5))"
   ]
  },
  {
   "cell_type": "code",
   "execution_count": 46,
   "id": "2036237b-6467-4c35-a1b1-8d211b2a1adf",
   "metadata": {},
   "outputs": [
    {
     "name": "stdout",
     "output_type": "stream",
     "text": [
      "🎧 Recommended Songs for Detected Emotion: ANGRY\n",
      "\n",
      "                 Track      Artist  emotion\n",
      "94             wotless  crafty 893  neutral\n",
      "123920       chin chin   noga erez  neutral\n",
      "22      brace yourself     lnzndrf  neutral\n",
      "52203      cheerleader         omi  neutral\n",
      "21547       ether flac       naoki  neutral\n"
     ]
    }
   ],
   "source": [
    "\n",
    "import pandas as pd\n",
    "from sklearn.feature_extraction.text import TfidfVectorizer\n",
    "from sklearn.metrics.pairwise import cosine_similarity\n",
    "import random\n",
    "\n",
    "cleaned_music_df = music_df.copy()  \n",
    "\n",
    "cleaned_music_df['combined'] = (\n",
    "    cleaned_music_df['Track'].astype(str) + \" \" +\n",
    "    cleaned_music_df['Artist'].astype(str) + \" \" +\n",
    "    cleaned_music_df['emotion'].astype(str)\n",
    ")\n",
    "\n",
    "\n",
    "vectorizer = TfidfVectorizer(stop_words='english', max_features=5000)\n",
    "tfidf_matrix = vectorizer.fit_transform(cleaned_music_df['combined'])\n",
    "\n",
    "def recommend_songs_by_emotion(emotion, n=5):\n",
    "    emotion = emotion.lower().strip()\n",
    "    subset = cleaned_music_df[cleaned_music_df['emotion'] == emotion]\n",
    "    if subset.empty:\n",
    "        return [\"No songs found for this emotion.\"]\n",
    "    random_index = subset.sample(1).index[0]\n",
    "    cosine_sim = cosine_similarity(tfidf_matrix[random_index], tfidf_matrix).flatten()\n",
    "    similar_indices = cosine_sim.argsort()[-n-1:-1][::-1]\n",
    "    return cleaned_music_df.iloc[similar_indices][['Track', 'Artist', 'emotion']]\n",
    "\n",
    "preds = pd.read_csv(\"fer_test_predictions.csv\")   \n",
    "sample = preds.iloc[0]                            \n",
    "detected_emotion = sample['predicted_emotion']\n",
    "\n",
    "print(f\"🎧 Recommended Songs for Detected Emotion: {detected_emotion.upper()}\\n\")\n",
    "print(recommend_songs_by_emotion(detected_emotion, n=5))\n"
   ]
  },
  {
   "cell_type": "code",
   "execution_count": null,
   "id": "610d17db-68df-4f3b-93f4-130bbf84ba09",
   "metadata": {},
   "outputs": [],
   "source": []
  }
 ],
 "metadata": {
  "kernelspec": {
   "display_name": "tfkernel1",
   "language": "python",
   "name": "tfkernel1"
  },
  "language_info": {
   "codemirror_mode": {
    "name": "ipython",
    "version": 3
   },
   "file_extension": ".py",
   "mimetype": "text/x-python",
   "name": "python",
   "nbconvert_exporter": "python",
   "pygments_lexer": "ipython3",
   "version": "3.11.1"
  }
 },
 "nbformat": 4,
 "nbformat_minor": 5
}
