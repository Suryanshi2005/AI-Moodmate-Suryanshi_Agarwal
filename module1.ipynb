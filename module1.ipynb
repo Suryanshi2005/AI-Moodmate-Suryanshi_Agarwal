{
 "cells": [
  {
   "cell_type": "code",
   "execution_count": 1,
   "id": "9a49748e-265c-4133-b9e0-628244cd00ed",
   "metadata": {},
   "outputs": [],
   "source": [
    "import os\n",
    "import numpy as np\n",
    "import matplotlib.pyplot as plt\n",
    "from PIL import Image\n",
    "from tensorflow.keras.preprocessing.image import ImageDataGenerator\n",
    "import scipy\n",
    "import pandas as pd\n"
   ]
  },
  {
   "cell_type": "code",
   "execution_count": 2,
   "id": "fdd11b38-87d2-4e48-a22b-c69ce521470c",
   "metadata": {},
   "outputs": [
    {
     "name": "stdout",
     "output_type": "stream",
     "text": [
      "train folder path C:\\Users\\avija\\Downloads\\FER2013\\train\n",
      "test folder path C:\\Users\\avija\\Downloads\\FER2013\\test\n"
     ]
    }
   ],
   "source": [
    "base_dir = \"FER2013\"\n",
    "train_dir = os.path.join(base_dir, r\"C:\\Users\\avija\\Downloads\\FER2013\\train\")\n",
    "test_dir = os.path.join(base_dir, r\"C:\\Users\\avija\\Downloads\\FER2013\\test\")\n",
    "print(\"train folder path\", train_dir)\n",
    "print(\"test folder path\", test_dir)"
   ]
  },
  {
   "cell_type": "code",
   "execution_count": 3,
   "id": "9628a998-3316-4a54-acee-16dfd64fea32",
   "metadata": {},
   "outputs": [
    {
     "name": "stdout",
     "output_type": "stream",
     "text": [
      "classes are found: ['angry', 'disgust', 'fear', 'happy', 'neutral', 'sad', 'surprise']\n"
     ]
    }
   ],
   "source": [
    "classes = [d for d in os.listdir(train_dir) if os.path.isdir(os.path.join(train_dir, d))]\n",
    "print(\"classes are found:\", classes)"
   ]
  },
  {
   "cell_type": "code",
   "execution_count": 4,
   "id": "05c00c2c-80e3-4a5e-a6a3-0bf38c91b47a",
   "metadata": {},
   "outputs": [
    {
     "name": "stdout",
     "output_type": "stream",
     "text": [
      "angry: 3995 images\n",
      "disgust: 436 images\n",
      "fear: 4097 images\n",
      "happy: 7215 images\n",
      "neutral: 4965 images\n",
      "sad: 4830 images\n",
      "surprise: 3171 images\n"
     ]
    }
   ],
   "source": [
    "for c in classes:\n",
    "    img_count = len(os.listdir(os.path.join(train_dir, c)))\n",
    "    print(f\"{c}: {img_count} images\")"
   ]
  },
  {
   "cell_type": "code",
   "execution_count": 5,
   "id": "a7f28fd6-d74a-4b36-9656-34665e1dcf91",
   "metadata": {},
   "outputs": [],
   "source": [
    "train_datagen = ImageDataGenerator( \n",
    "    rescale=1./255,\n",
    "    rotation_range=10,\n",
    "    width_shift_range=0.1,\n",
    "    zoom_range=0.1,\n",
    "    horizontal_flip=True,\n",
    "    validation_split=0.2\n",
    ")\n"
   ]
  },
  {
   "cell_type": "code",
   "execution_count": 6,
   "id": "95047a37-e168-40bb-b625-7d11d659fbcc",
   "metadata": {},
   "outputs": [],
   "source": [
    "test_datagen = ImageDataGenerator(rescale=1./255)"
   ]
  },
  {
   "cell_type": "code",
   "execution_count": 7,
   "id": "a3528bb4-064d-431b-a7dc-2fe8edee6f99",
   "metadata": {},
   "outputs": [
    {
     "name": "stdout",
     "output_type": "stream",
     "text": [
      "Found 22968 images belonging to 7 classes.\n"
     ]
    }
   ],
   "source": [
    "train_data = train_datagen.flow_from_directory(\n",
    "    train_dir,\n",
    "    target_size=(48,48),\n",
    "    color_mode=\"grayscale\",\n",
    "    class_mode=\"categorical\",\n",
    "    batch_size=64,\n",
    "    shuffle=True,\n",
    "    subset=\"training\"\n",
    ")"
   ]
  },
  {
   "cell_type": "code",
   "execution_count": 8,
   "id": "34211eaa-0bfe-4e0f-a8f8-4e63cf81882c",
   "metadata": {},
   "outputs": [
    {
     "name": "stdout",
     "output_type": "stream",
     "text": [
      "Found 5741 images belonging to 7 classes.\n"
     ]
    }
   ],
   "source": [
    "val_data = train_datagen.flow_from_directory(\n",
    "    train_dir,\n",
    "    target_size=(48,48),\n",
    "    color_mode=\"grayscale\",\n",
    "    class_mode=\"categorical\",\n",
    "    batch_size=64,\n",
    "    shuffle=True,\n",
    "    subset=\"validation\"\n",
    ")\n",
    "    "
   ]
  },
  {
   "cell_type": "code",
   "execution_count": 9,
   "id": "a975c614-62d8-489d-aff6-8475ae8980cd",
   "metadata": {},
   "outputs": [
    {
     "name": "stdout",
     "output_type": "stream",
     "text": [
      "Found 7178 images belonging to 7 classes.\n"
     ]
    }
   ],
   "source": [
    "test_data = test_datagen.flow_from_directory(\n",
    "    test_dir,\n",
    "    target_size=(48,48),\n",
    "    color_mode=\"grayscale\",\n",
    "    class_mode=\"categorical\",\n",
    "    batch_size=64,\n",
    "    shuffle=False\n",
    ")"
   ]
  },
  {
   "cell_type": "code",
   "execution_count": 10,
   "id": "5c0904a3-5770-4103-82ac-26941b95ee96",
   "metadata": {},
   "outputs": [
    {
     "data": {
      "image/png": "[encoded data removed]",
      "text/plain": [
       "<Figure size 640x480 with 1 Axes>"
      ]
     },
     "metadata": {},
     "output_type": "display_data"
    }
   ],
   "source": [
    "x_batch, y_batch = next(train_data)\n",
    "plt.imshow(x_batch[0].reshape(48,48),cmap=\"gray\")\n",
    "plt.title(f\"Label: {np.argmax(y_batch[0])}\")\n",
    "plt.axis(\"off\")\n",
    "plt.show()"
   ]
  },
  {
   "cell_type": "code",
   "execution_count": 13,
   "id": "b28efe83-c9ca-430d-ace5-04b855a581da",
   "metadata": {},
   "outputs": [
    {
     "name": "stdout",
     "output_type": "stream",
     "text": [
      "File exists: True\n"
     ]
    }
   ],
   "source": [
    "base_dir = \"FER2013\"\n",
    "music_csv = os.path.join(base_dir, r\"C:\\Users\\avija\\Downloads\\FER2013\\last.fm\\Last.fm_data.csv\")\n",
    "print(\"File exists:\", os.path.exists(music_csv))\n",
    "\n"
   ]
  },
  {
   "cell_type": "code",
   "execution_count": 14,
   "id": "294e2d06-8c55-41c0-81a6-b05db604488a",
   "metadata": {},
   "outputs": [
    {
     "name": "stdout",
     "output_type": "stream",
     "text": [
      "Dataset loaded successfully!\n",
      "columns available: Index(['Unnamed: 0', 'Username', 'Artist', 'Track', 'Album', 'Date', 'Time'], dtype='object')\n",
      "   Unnamed: 0 Username           Artist                          Track  \\\n",
      "0           0  Babs_05  Isobel Campbell     The Circus Is Leaving Town   \n",
      "1           1  Babs_05  Isobel Campbell                   Dusty Wreath   \n",
      "2           2  Babs_05  Isobel Campbell     Honey Child What Can I Do?   \n",
      "3           3  Babs_05  Isobel Campbell  It's Hard To Kill A Bad Thing   \n",
      "4           4  Babs_05  Isobel Campbell                Saturday's Gone   \n",
      "\n",
      "                       Album         Date    Time  \n",
      "0  Ballad of the Broken Seas  31 Jan 2021   23:36  \n",
      "1  Ballad of the Broken Seas  31 Jan 2021   23:32  \n",
      "2  Ballad of the Broken Seas  31 Jan 2021   23:28  \n",
      "3  Ballad of the Broken Seas  31 Jan 2021   23:25  \n",
      "4  Ballad of the Broken Seas  31 Jan 2021   23:21  \n"
     ]
    }
   ],
   "source": [
    "music_df = pd.read_csv(music_csv)\n",
    "print(\"Dataset loaded successfully!\")\n",
    "print(\"columns available:\",music_df.columns)\n",
    "print(music_df.head())\n"
   ]
  },
  {
   "cell_type": "code",
   "execution_count": 15,
   "id": "21a2c9f6-c329-41fc-8d16-36b0b58b9a8a",
   "metadata": {},
   "outputs": [
    {
     "name": "stdout",
     "output_type": "stream",
     "text": [
      "  Username           Artist                          Track  \\\n",
      "0  Babs_05  Isobel Campbell     The Circus Is Leaving Town   \n",
      "1  Babs_05  Isobel Campbell                   Dusty Wreath   \n",
      "2  Babs_05  Isobel Campbell     Honey Child What Can I Do?   \n",
      "3  Babs_05  Isobel Campbell  It's Hard To Kill A Bad Thing   \n",
      "4  Babs_05  Isobel Campbell                Saturday's Gone   \n",
      "\n",
      "                       Album         Date    Time  \n",
      "0  Ballad of the Broken Seas  31 Jan 2021   23:36  \n",
      "1  Ballad of the Broken Seas  31 Jan 2021   23:32  \n",
      "2  Ballad of the Broken Seas  31 Jan 2021   23:28  \n",
      "3  Ballad of the Broken Seas  31 Jan 2021   23:25  \n",
      "4  Ballad of the Broken Seas  31 Jan 2021   23:21  \n"
     ]
    }
   ],
   "source": [
    "\n",
    "music_df = music_df.drop(columns=['Unnamed: 0', 'username', 'date', 'time'], errors='ignore')\n",
    "\n",
    "print(music_df.head())\n"
   ]
  },
  {
   "cell_type": "code",
   "execution_count": 16,
   "id": "042faf7c-982a-4014-b148-e8fd95d7f2eb",
   "metadata": {},
   "outputs": [
    {
     "name": "stdout",
     "output_type": "stream",
     "text": [
      "Username     0\n",
      "Artist       0\n",
      "Track        0\n",
      "Album       12\n",
      "Date         0\n",
      "Time         0\n",
      "dtype: int64\n"
     ]
    }
   ],
   "source": [
    "\n",
    "print(music_df.isnull().sum())\n",
    "\n",
    "\n",
    "music_df = music_df.dropna(subset=['Track', 'Artist'])\n"
   ]
  },
  {
   "cell_type": "code",
   "execution_count": 17,
   "id": "cb659d10-3567-4f8e-a534-576295b51552",
   "metadata": {},
   "outputs": [
    {
     "name": "stdout",
     "output_type": "stream",
     "text": [
      "Dataset shape after cleaning: (76038, 6)\n"
     ]
    }
   ],
   "source": [
    "music_df = music_df.drop_duplicates(subset=['Track', 'Artist'])\n",
    "\n",
    "print(\"Dataset shape after cleaning:\", music_df.shape)\n"
   ]
  },
  {
   "cell_type": "code",
   "execution_count": 18,
   "id": "9302625b-c261-4d91-9fe2-3dc6369e3e53",
   "metadata": {},
   "outputs": [],
   "source": [
    "music_df['Track'] = music_df['Track'].str.lower().str.strip()\n",
    "music_df['Artist'] = music_df['Artist'].str.lower().str.strip()\n"
   ]
  },
  {
   "cell_type": "code",
   "execution_count": 19,
   "id": "f52d945c-eabf-4079-9e5a-82a126ab7c4c",
   "metadata": {},
   "outputs": [
    {
     "name": "stdout",
     "output_type": "stream",
     "text": [
      "                               Track           Artist  emotion\n",
      "0         the circus is leaving town  isobel campbell  neutral\n",
      "1                       dusty wreath  isobel campbell  neutral\n",
      "2         honey child what can i do?  isobel campbell  neutral\n",
      "3      it's hard to kill a bad thing  isobel campbell  neutral\n",
      "4                    saturday's gone  isobel campbell  neutral\n",
      "5  (do you wanna) come walk with me?  isobel campbell  neutral\n",
      "6                       ramblin' man  isobel campbell  neutral\n",
      "7                           revolver  isobel campbell  neutral\n",
      "8          ballad of the broken seas  isobel campbell  neutral\n",
      "9                  the false husband  isobel campbell  neutral\n"
     ]
    }
   ],
   "source": [
    "def map_emotion(track, artist):\n",
    "    track = str(track).lower()\n",
    "    artist = str(artist).lower()\n",
    "\n",
    "    \n",
    "    if \"love\" in track or \"happy\" in track or \"dance\" in track:\n",
    "        return \"happy\"\n",
    "    elif \"sad\" in track or \"cry\" in track or \"lonely\" in track:\n",
    "        return \"sad\"\n",
    "    elif \"rock\" in track or \"metal\" in artist or \"angry\" in track:\n",
    "        return \"angry\"\n",
    "    elif \"calm\" in track or \"chill\" in track or \"instrumental\" in track:\n",
    "        return \"neutral\"\n",
    "    else:\n",
    "        return \"neutral\"  # default\n",
    "\n",
    "\n",
    "music_df['emotion'] = music_df.apply(lambda x: map_emotion(x['Track'], x['Artist']), axis=1)\n",
    "\n",
    "print(music_df[['Track', 'Artist', 'emotion']].head(10))\n"
   ]
  },
  {
   "cell_type": "code",
   "execution_count": 20,
   "id": "bf4e3612-6498-4483-840d-9bd63b97cb68",
   "metadata": {},
   "outputs": [],
   "source": [
    "import random\n",
    "\n",
    "def recommend_songs(emotion, n=5):\n",
    "    # Filter dataset on detected emotion\n",
    "    filtered = music_df[music_df['emotion'] == emotion]\n",
    "\n",
    "    if filtered.empty:\n",
    "        return [\"No songs found for this emotion.\"]\n",
    "\n",
    "\n",
    "    return filtered.sample(n=min(n, len(filtered)))[['Track', 'Artist']]\n"
   ]
  },
  {
   "cell_type": "code",
   "execution_count": 22,
   "id": "70871a9e-97a2-4db5-9eeb-af1829e1cfe6",
   "metadata": {},
   "outputs": [
    {
     "name": "stdout",
     "output_type": "stream",
     "text": [
      "🎵 Recommended Songs for Emotion: sad\n",
      "                          Track        Artist\n",
      "55002         you should be sad        halsey\n",
      "143612            big girls cry           sia\n",
      "106290             lonely beast  eric cannata\n",
      "13245       pretty when you cry  lana del rey\n",
      "13730   owner of a lonely heart           yes\n"
     ]
    }
   ],
   "source": [
    "\n",
    "detected_emotion = \"sad\"\n",
    "\n",
    "print(f\"🎵 Recommended Songs for Emotion: {detected_emotion}\")\n",
    "print(recommend_songs(detected_emotion, n=5))\n"
   ]
  },
  {
   "cell_type": "code",
   "execution_count": null,
   "id": "5ebceda7-4eca-4456-ab48-6c320e467e8c",
   "metadata": {},
   "outputs": [],
   "source": []
  }
 ],
 "metadata": {
  "kernelspec": {
   "display_name": "tfkernel",
   "language": "python",
   "name": "tfkernel"
  },
  "language_info": {
   "codemirror_mode": {
    "name": "ipython",
    "version": 3
   },
   "file_extension": ".py",
   "mimetype": "text/x-python",
   "name": "python",
   "nbconvert_exporter": "python",
   "pygments_lexer": "ipython3",
   "version": "3.11.1"
  }
 },
 "nbformat": 4,
 "nbformat_minor": 5
}
