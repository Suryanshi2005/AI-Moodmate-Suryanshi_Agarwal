{
 "cells": [
  {
   "cell_type": "code",
   "execution_count": 30,
   "id": "a669a039-b75f-4504-93c4-c586a1b587e2",
   "metadata": {},
   "outputs": [],
   "source": [
    "import os\n",
    "import numpy as np\n",
    "import matplotlib.pyplot as plt\n",
    "from PIL import Image\n",
    "from tensorflow.keras.preprocessing.image import ImageDataGenerator\n",
    "import scipy\n",
    "import pandas as pd\n"
   ]
  },
  {
   "cell_type": "code",
   "execution_count": 31,
   "id": "9812a376-1bca-4f7f-9dbc-f8b2e2c27d1e",
   "metadata": {},
   "outputs": [
    {
     "name": "stdout",
     "output_type": "stream",
     "text": [
      "train folder path C:\\Users\\avija\\Downloads\\FER2013\\train\n",
      "test folder path C:\\Users\\avija\\Downloads\\FER2013\\test\n"
     ]
    }
   ],
   "source": [
    "base_dir = \"FER2013\"\n",
    "train_dir = os.path.join(base_dir, r\"C:\\Users\\avija\\Downloads\\FER2013\\train\")\n",
    "test_dir = os.path.join(base_dir, r\"C:\\Users\\avija\\Downloads\\FER2013\\test\")\n",
    "print(\"train folder path\", train_dir)\n",
    "print(\"test folder path\", test_dir)"
   ]
  },
  {
   "cell_type": "code",
   "execution_count": 32,
   "id": "fac7668a-647b-4813-8741-16228647d118",
   "metadata": {},
   "outputs": [
    {
     "name": "stdout",
     "output_type": "stream",
     "text": [
      "classes are found: ['angry', 'disgust', 'fear', 'happy', 'neutral', 'sad', 'surprise']\n"
     ]
    }
   ],
   "source": [
    "classes = [d for d in os.listdir(train_dir) if os.path.isdir(os.path.join(train_dir, d))]\n",
    "print(\"classes are found:\", classes)"
   ]
  },
  {
   "cell_type": "code",
   "execution_count": 33,
   "id": "f325cbd1-7803-4379-843f-3602a11ab44f",
   "metadata": {},
   "outputs": [
    {
     "name": "stdout",
     "output_type": "stream",
     "text": [
      "angry: 3995 images\n",
      "disgust: 436 images\n",
      "fear: 4097 images\n",
      "happy: 7215 images\n",
      "neutral: 4965 images\n",
      "sad: 4830 images\n",
      "surprise: 3171 images\n"
     ]
    }
   ],
   "source": [
    "for c in classes:\n",
    "    img_count = len(os.listdir(os.path.join(train_dir, c)))\n",
    "    print(f\"{c}: {img_count} images\")"
   ]
  },
  {
   "cell_type": "code",
   "execution_count": 34,
   "id": "2b14545b-e310-4360-862d-b5261e4db80c",
   "metadata": {},
   "outputs": [],
   "source": [
    "train_datagen = ImageDataGenerator( \n",
    "    rescale=1./255,\n",
    "    rotation_range=10,\n",
    "    width_shift_range=0.1,\n",
    "    zoom_range=0.1,\n",
    "    horizontal_flip=True,\n",
    "    validation_split=0.2\n",
    ")\n"
   ]
  },
  {
   "cell_type": "code",
   "execution_count": 35,
   "id": "7c332d4b-014c-4c8d-b4c3-863bbd227b9a",
   "metadata": {},
   "outputs": [],
   "source": [
    "test_datagen = ImageDataGenerator(rescale=1./255)"
   ]
  },
  {
   "cell_type": "code",
   "execution_count": 36,
   "id": "c19c33a4-d237-4a2c-8b92-9b084b1b9a4f",
   "metadata": {},
   "outputs": [
    {
     "name": "stdout",
     "output_type": "stream",
     "text": [
      "Found 22968 images belonging to 7 classes.\n"
     ]
    }
   ],
   "source": [
    "train_data = train_datagen.flow_from_directory(\n",
    "    train_dir,\n",
    "    target_size=(48,48),\n",
    "    color_mode=\"grayscale\",\n",
    "    class_mode=\"categorical\",\n",
    "    batch_size=64,\n",
    "    shuffle=True,\n",
    "    subset=\"training\"\n",
    ")"
   ]
  },
  {
   "cell_type": "code",
   "execution_count": 37,
   "id": "9cca5b3d-2ba7-4847-8d36-b79e3ef58aab",
   "metadata": {},
   "outputs": [
    {
     "name": "stdout",
     "output_type": "stream",
     "text": [
      "Found 5741 images belonging to 7 classes.\n"
     ]
    }
   ],
   "source": [
    "val_data = train_datagen.flow_from_directory(\n",
    "    train_dir,\n",
    "    target_size=(48,48),\n",
    "    color_mode=\"grayscale\",\n",
    "    class_mode=\"categorical\",\n",
    "    batch_size=64,\n",
    "    shuffle=True,\n",
    "    subset=\"validation\"\n",
    ")\n",
    "    "
   ]
  },
  {
   "cell_type": "code",
   "execution_count": 38,
   "id": "7ca7548f-9e54-4a31-b27c-36ef05400a2c",
   "metadata": {},
   "outputs": [
    {
     "name": "stdout",
     "output_type": "stream",
     "text": [
      "Found 7178 images belonging to 7 classes.\n"
     ]
    }
   ],
   "source": [
    "test_data = test_datagen.flow_from_directory(\n",
    "    test_dir,\n",
    "    target_size=(48,48),\n",
    "    color_mode=\"grayscale\",\n",
    "    class_mode=\"categorical\",\n",
    "    batch_size=64,\n",
    "    shuffle=False\n",
    ")"
   ]
  },
  {
   "cell_type": "code",
   "execution_count": 39,
   "id": "b74f5195-4f5a-483a-bce5-a50c5a2cb083",
   "metadata": {},
   "outputs": [
    {
     "data": {
      "image/png": "[encoded data removed]",
      "text/plain": [
       "<Figure size 640x480 with 1 Axes>"
      ]
     },
     "metadata": {},
     "output_type": "display_data"
    }
   ],
   "source": [
    "x_batch, y_batch = next(train_data)\n",
    "plt.imshow(x_batch[0].reshape(48,48),cmap=\"gray\")\n",
    "plt.title(f\"Label: {np.argmax(y_batch[0])}\")\n",
    "plt.axis(\"off\")\n",
    "plt.show()"
   ]
  },
  {
   "cell_type": "code",
   "execution_count": 40,
   "id": "0a785e18-a69f-4879-806c-62845ddf6a44",
   "metadata": {},
   "outputs": [
    {
     "name": "stdout",
     "output_type": "stream",
     "text": [
      "File exists: True\n"
     ]
    }
   ],
   "source": [
    "base_dir = \"FER2013\"\n",
    "music_csv = os.path.join(base_dir, r\"C:\\Users\\avija\\Downloads\\FER2013\\last.fm\\Last.fm_data.csv\")\n",
    "print(\"File exists:\", os.path.exists(music_csv))\n",
    "\n"
   ]
  },
  {
   "cell_type": "code",
   "execution_count": 41,
   "id": "05062e85-980e-4e0c-8102-c53581b0f73b",
   "metadata": {},
   "outputs": [
    {
     "name": "stdout",
     "output_type": "stream",
     "text": [
      "Dataset loaded successfully!\n",
      "columns available: Index(['Unnamed: 0', 'Username', 'Artist', 'Track', 'Album', 'Date', 'Time'], dtype='object')\n",
      "   Unnamed: 0 Username           Artist                          Track  \\\n",
      "0           0  Babs_05  Isobel Campbell     The Circus Is Leaving Town   \n",
      "1           1  Babs_05  Isobel Campbell                   Dusty Wreath   \n",
      "2           2  Babs_05  Isobel Campbell     Honey Child What Can I Do?   \n",
      "3           3  Babs_05  Isobel Campbell  It's Hard To Kill A Bad Thing   \n",
      "4           4  Babs_05  Isobel Campbell                Saturday's Gone   \n",
      "\n",
      "                       Album         Date    Time  \n",
      "0  Ballad of the Broken Seas  31 Jan 2021   23:36  \n",
      "1  Ballad of the Broken Seas  31 Jan 2021   23:32  \n",
      "2  Ballad of the Broken Seas  31 Jan 2021   23:28  \n",
      "3  Ballad of the Broken Seas  31 Jan 2021   23:25  \n",
      "4  Ballad of the Broken Seas  31 Jan 2021   23:21  \n"
     ]
    }
   ],
   "source": [
    "music_df = pd.read_csv(music_csv)\n",
    "print(\"Dataset loaded successfully!\")\n",
    "print(\"columns available:\",music_df.columns)\n",
    "print(music_df.head())\n"
   ]
  },
  {
   "cell_type": "code",
   "execution_count": 42,
   "id": "a0ef1dde-1906-4d2b-ac3d-6359b28e3f71",
   "metadata": {},
   "outputs": [
    {
     "name": "stdout",
     "output_type": "stream",
     "text": [
      "  Username           Artist                          Track  \\\n",
      "0  Babs_05  Isobel Campbell     The Circus Is Leaving Town   \n",
      "1  Babs_05  Isobel Campbell                   Dusty Wreath   \n",
      "2  Babs_05  Isobel Campbell     Honey Child What Can I Do?   \n",
      "3  Babs_05  Isobel Campbell  It's Hard To Kill A Bad Thing   \n",
      "4  Babs_05  Isobel Campbell                Saturday's Gone   \n",
      "\n",
      "                       Album         Date    Time  \n",
      "0  Ballad of the Broken Seas  31 Jan 2021   23:36  \n",
      "1  Ballad of the Broken Seas  31 Jan 2021   23:32  \n",
      "2  Ballad of the Broken Seas  31 Jan 2021   23:28  \n",
      "3  Ballad of the Broken Seas  31 Jan 2021   23:25  \n",
      "4  Ballad of the Broken Seas  31 Jan 2021   23:21  \n"
     ]
    }
   ],
   "source": [
    "\n",
    "music_df = music_df.drop(columns=['Unnamed: 0', 'username', 'date', 'time'], errors='ignore')\n",
    "\n",
    "print(music_df.head())\n"
   ]
  },
  {
   "cell_type": "code",
   "execution_count": 43,
   "id": "5904292a-3cfe-469a-8549-3bb2e4e07f87",
   "metadata": {},
   "outputs": [
    {
     "name": "stdout",
     "output_type": "stream",
     "text": [
      "Dataset shape after cleaning: (76038, 6)\n"
     ]
    }
   ],
   "source": [
    "music_df = music_df.drop_duplicates(subset=['Track', 'Artist'])\n",
    "\n",
    "print(\"Dataset shape after cleaning:\", music_df.shape)\n"
   ]
  },
  {
   "cell_type": "code",
   "execution_count": 44,
   "id": "b8135dc7-8ff7-4852-8656-1dc69ab6fc48",
   "metadata": {},
   "outputs": [],
   "source": [
    "music_df['Track'] = music_df['Track'].str.lower().str.strip()\n",
    "music_df['Artist'] = music_df['Artist'].str.lower().str.strip()\n"
   ]
  },
  {
   "cell_type": "code",
   "execution_count": 45,
   "id": "b0b07c74-ebf6-444a-b185-d383d2b49f1c",
   "metadata": {},
   "outputs": [
    {
     "name": "stdout",
     "output_type": "stream",
     "text": [
      "                               Track           Artist  emotion\n",
      "0         the circus is leaving town  isobel campbell  neutral\n",
      "1                       dusty wreath  isobel campbell  neutral\n",
      "2         honey child what can i do?  isobel campbell  neutral\n",
      "3      it's hard to kill a bad thing  isobel campbell  neutral\n",
      "4                    saturday's gone  isobel campbell  neutral\n",
      "5  (do you wanna) come walk with me?  isobel campbell  neutral\n",
      "6                       ramblin' man  isobel campbell  neutral\n",
      "7                           revolver  isobel campbell  neutral\n",
      "8          ballad of the broken seas  isobel campbell  neutral\n",
      "9                  the false husband  isobel campbell  neutral\n"
     ]
    }
   ],
   "source": [
    "def map_emotion(track, artist):\n",
    "    track = str(track).lower()\n",
    "    artist = str(artist).lower()\n",
    "\n",
    "    \n",
    "    if \"love\" in track or \"happy\" in track or \"dance\" in track:\n",
    "        return \"happy\"\n",
    "    elif \"sad\" in track or \"cry\" in track or \"lonely\" in track:\n",
    "        return \"sad\"\n",
    "    elif \"rock\" in track or \"metal\" in artist or \"angry\" in track:\n",
    "        return \"angry\"\n",
    "    elif \"calm\" in track or \"chill\" in track or \"instrumental\" in track:\n",
    "        return \"neutral\"\n",
    "    else:\n",
    "        return \"neutral\"  # default\n",
    "\n",
    "\n",
    "music_df['emotion'] = music_df.apply(lambda x: map_emotion(x['Track'], x['Artist']), axis=1)\n",
    "\n",
    "print(music_df[['Track', 'Artist', 'emotion']].head(10))\n"
   ]
  },
  {
   "cell_type": "code",
   "execution_count": 46,
   "id": "9b81f52c-63b8-4334-9efa-6104c93aa18d",
   "metadata": {},
   "outputs": [],
   "source": [
    "import random\n",
    "\n",
    "def recommend_songs(emotion, n=5):\n",
    "    # Filter dataset on detected emotion\n",
    "    filtered = music_df[music_df['emotion'] == emotion]\n",
    "\n",
    "    if filtered.empty:\n",
    "        return [\"No songs found for this emotion.\"]\n",
    "\n",
    "\n",
    "    return filtered.sample(n=min(n, len(filtered)))[['Track', 'Artist']]\n"
   ]
  },
  {
   "cell_type": "code",
   "execution_count": 47,
   "id": "abf7ac54-0b27-455a-bec2-2840ac39937b",
   "metadata": {},
   "outputs": [
    {
     "name": "stdout",
     "output_type": "stream",
     "text": [
      "🎵 Recommended Songs for Emotion: happy\n",
      "                                 Track         Artist\n",
      "118043        639 hz miracle love tone  miracle tones\n",
      "80188                    songs of love      ben folds\n",
      "106331                  the happy song    imogen heap\n",
      "94384                           lovely  joey pecoraro\n",
      "79206   love me do - mono / remastered    the beatles\n"
     ]
    }
   ],
   "source": [
    "\n",
    "detected_emotion = \"happy\"\n",
    "\n",
    "print(f\"🎵 Recommended Songs for Emotion: {detected_emotion}\")\n",
    "print(recommend_songs(detected_emotion, n=5))\n"
   ]
  },
  {
   "cell_type": "code",
   "execution_count": 51,
   "id": "50ce529b-ae90-4863-bcca-d7e6c49aab15",
   "metadata": {},
   "outputs": [],
   "source": [
    "import math\n",
    "from tensorflow.keras import layers, models, callbacks, optimizers\n",
    "from tensorflow.keras.utils import to_categorical\n",
    "from sklearn.utils.class_weight import compute_class_weight"
   ]
  },
  {
   "cell_type": "code",
   "execution_count": 52,
   "id": "1c227f1a-7e79-4ddb-81d5-5d05e3fce987",
   "metadata": {},
   "outputs": [
    {
     "data": {
      "text/html": [
       "<pre style=\"white-space:pre;overflow-x:auto;line-height:normal;font-family:Menlo,'DejaVu Sans Mono',consolas,'Courier New',monospace\"><span style=\"font-weight: bold\">Model: \"sequential\"</span>\n",
       "</pre>\n"
      ],
      "text/plain": [
       "\u001b[1mModel: \"sequential\"\u001b[0m\n"
      ]
     },
     "metadata": {},
     "output_type": "display_data"
    },
    {
     "data": {
      "text/html": [
       "<pre style=\"white-space:pre;overflow-x:auto;line-height:normal;font-family:Menlo,'DejaVu Sans Mono',consolas,'Courier New',monospace\">┏━━━━━━━━━━━━━━━━━━━━━━━━━━━━━━━━━┳━━━━━━━━━━━━━━━━━━━━━━━━┳━━━━━━━━━━━━━━━┓\n",
       "┃<span style=\"font-weight: bold\"> Layer (type)                    </span>┃<span style=\"font-weight: bold\"> Output Shape           </span>┃<span style=\"font-weight: bold\">       Param # </span>┃\n",
       "┡━━━━━━━━━━━━━━━━━━━━━━━━━━━━━━━━━╇━━━━━━━━━━━━━━━━━━━━━━━━╇━━━━━━━━━━━━━━━┩\n",
       "│ conv2d (<span style=\"color: #0087ff; text-decoration-color: #0087ff\">Conv2D</span>)                 │ (<span style=\"color: #00d7ff; text-decoration-color: #00d7ff\">None</span>, <span style=\"color: #00af00; text-decoration-color: #00af00\">48</span>, <span style=\"color: #00af00; text-decoration-color: #00af00\">48</span>, <span style=\"color: #00af00; text-decoration-color: #00af00\">32</span>)     │           <span style=\"color: #00af00; text-decoration-color: #00af00\">320</span> │\n",
       "├─────────────────────────────────┼────────────────────────┼───────────────┤\n",
       "│ batch_normalization             │ (<span style=\"color: #00d7ff; text-decoration-color: #00d7ff\">None</span>, <span style=\"color: #00af00; text-decoration-color: #00af00\">48</span>, <span style=\"color: #00af00; text-decoration-color: #00af00\">48</span>, <span style=\"color: #00af00; text-decoration-color: #00af00\">32</span>)     │           <span style=\"color: #00af00; text-decoration-color: #00af00\">128</span> │\n",
       "│ (<span style=\"color: #0087ff; text-decoration-color: #0087ff\">BatchNormalization</span>)            │                        │               │\n",
       "├─────────────────────────────────┼────────────────────────┼───────────────┤\n",
       "│ max_pooling2d (<span style=\"color: #0087ff; text-decoration-color: #0087ff\">MaxPooling2D</span>)    │ (<span style=\"color: #00d7ff; text-decoration-color: #00d7ff\">None</span>, <span style=\"color: #00af00; text-decoration-color: #00af00\">24</span>, <span style=\"color: #00af00; text-decoration-color: #00af00\">24</span>, <span style=\"color: #00af00; text-decoration-color: #00af00\">32</span>)     │             <span style=\"color: #00af00; text-decoration-color: #00af00\">0</span> │\n",
       "├─────────────────────────────────┼────────────────────────┼───────────────┤\n",
       "│ dropout (<span style=\"color: #0087ff; text-decoration-color: #0087ff\">Dropout</span>)               │ (<span style=\"color: #00d7ff; text-decoration-color: #00d7ff\">None</span>, <span style=\"color: #00af00; text-decoration-color: #00af00\">24</span>, <span style=\"color: #00af00; text-decoration-color: #00af00\">24</span>, <span style=\"color: #00af00; text-decoration-color: #00af00\">32</span>)     │             <span style=\"color: #00af00; text-decoration-color: #00af00\">0</span> │\n",
       "├─────────────────────────────────┼────────────────────────┼───────────────┤\n",
       "│ conv2d_1 (<span style=\"color: #0087ff; text-decoration-color: #0087ff\">Conv2D</span>)               │ (<span style=\"color: #00d7ff; text-decoration-color: #00d7ff\">None</span>, <span style=\"color: #00af00; text-decoration-color: #00af00\">24</span>, <span style=\"color: #00af00; text-decoration-color: #00af00\">24</span>, <span style=\"color: #00af00; text-decoration-color: #00af00\">64</span>)     │        <span style=\"color: #00af00; text-decoration-color: #00af00\">18,496</span> │\n",
       "├─────────────────────────────────┼────────────────────────┼───────────────┤\n",
       "│ batch_normalization_1           │ (<span style=\"color: #00d7ff; text-decoration-color: #00d7ff\">None</span>, <span style=\"color: #00af00; text-decoration-color: #00af00\">24</span>, <span style=\"color: #00af00; text-decoration-color: #00af00\">24</span>, <span style=\"color: #00af00; text-decoration-color: #00af00\">64</span>)     │           <span style=\"color: #00af00; text-decoration-color: #00af00\">256</span> │\n",
       "│ (<span style=\"color: #0087ff; text-decoration-color: #0087ff\">BatchNormalization</span>)            │                        │               │\n",
       "├─────────────────────────────────┼────────────────────────┼───────────────┤\n",
       "│ max_pooling2d_1 (<span style=\"color: #0087ff; text-decoration-color: #0087ff\">MaxPooling2D</span>)  │ (<span style=\"color: #00d7ff; text-decoration-color: #00d7ff\">None</span>, <span style=\"color: #00af00; text-decoration-color: #00af00\">12</span>, <span style=\"color: #00af00; text-decoration-color: #00af00\">12</span>, <span style=\"color: #00af00; text-decoration-color: #00af00\">64</span>)     │             <span style=\"color: #00af00; text-decoration-color: #00af00\">0</span> │\n",
       "├─────────────────────────────────┼────────────────────────┼───────────────┤\n",
       "│ dropout_1 (<span style=\"color: #0087ff; text-decoration-color: #0087ff\">Dropout</span>)             │ (<span style=\"color: #00d7ff; text-decoration-color: #00d7ff\">None</span>, <span style=\"color: #00af00; text-decoration-color: #00af00\">12</span>, <span style=\"color: #00af00; text-decoration-color: #00af00\">12</span>, <span style=\"color: #00af00; text-decoration-color: #00af00\">64</span>)     │             <span style=\"color: #00af00; text-decoration-color: #00af00\">0</span> │\n",
       "├─────────────────────────────────┼────────────────────────┼───────────────┤\n",
       "│ conv2d_2 (<span style=\"color: #0087ff; text-decoration-color: #0087ff\">Conv2D</span>)               │ (<span style=\"color: #00d7ff; text-decoration-color: #00d7ff\">None</span>, <span style=\"color: #00af00; text-decoration-color: #00af00\">12</span>, <span style=\"color: #00af00; text-decoration-color: #00af00\">12</span>, <span style=\"color: #00af00; text-decoration-color: #00af00\">128</span>)    │        <span style=\"color: #00af00; text-decoration-color: #00af00\">73,856</span> │\n",
       "├─────────────────────────────────┼────────────────────────┼───────────────┤\n",
       "│ batch_normalization_2           │ (<span style=\"color: #00d7ff; text-decoration-color: #00d7ff\">None</span>, <span style=\"color: #00af00; text-decoration-color: #00af00\">12</span>, <span style=\"color: #00af00; text-decoration-color: #00af00\">12</span>, <span style=\"color: #00af00; text-decoration-color: #00af00\">128</span>)    │           <span style=\"color: #00af00; text-decoration-color: #00af00\">512</span> │\n",
       "│ (<span style=\"color: #0087ff; text-decoration-color: #0087ff\">BatchNormalization</span>)            │                        │               │\n",
       "├─────────────────────────────────┼────────────────────────┼───────────────┤\n",
       "│ max_pooling2d_2 (<span style=\"color: #0087ff; text-decoration-color: #0087ff\">MaxPooling2D</span>)  │ (<span style=\"color: #00d7ff; text-decoration-color: #00d7ff\">None</span>, <span style=\"color: #00af00; text-decoration-color: #00af00\">6</span>, <span style=\"color: #00af00; text-decoration-color: #00af00\">6</span>, <span style=\"color: #00af00; text-decoration-color: #00af00\">128</span>)      │             <span style=\"color: #00af00; text-decoration-color: #00af00\">0</span> │\n",
       "├─────────────────────────────────┼────────────────────────┼───────────────┤\n",
       "│ dropout_2 (<span style=\"color: #0087ff; text-decoration-color: #0087ff\">Dropout</span>)             │ (<span style=\"color: #00d7ff; text-decoration-color: #00d7ff\">None</span>, <span style=\"color: #00af00; text-decoration-color: #00af00\">6</span>, <span style=\"color: #00af00; text-decoration-color: #00af00\">6</span>, <span style=\"color: #00af00; text-decoration-color: #00af00\">128</span>)      │             <span style=\"color: #00af00; text-decoration-color: #00af00\">0</span> │\n",
       "├─────────────────────────────────┼────────────────────────┼───────────────┤\n",
       "│ flatten (<span style=\"color: #0087ff; text-decoration-color: #0087ff\">Flatten</span>)               │ (<span style=\"color: #00d7ff; text-decoration-color: #00d7ff\">None</span>, <span style=\"color: #00af00; text-decoration-color: #00af00\">4608</span>)           │             <span style=\"color: #00af00; text-decoration-color: #00af00\">0</span> │\n",
       "├─────────────────────────────────┼────────────────────────┼───────────────┤\n",
       "│ dense (<span style=\"color: #0087ff; text-decoration-color: #0087ff\">Dense</span>)                   │ (<span style=\"color: #00d7ff; text-decoration-color: #00d7ff\">None</span>, <span style=\"color: #00af00; text-decoration-color: #00af00\">128</span>)            │       <span style=\"color: #00af00; text-decoration-color: #00af00\">589,952</span> │\n",
       "├─────────────────────────────────┼────────────────────────┼───────────────┤\n",
       "│ batch_normalization_3           │ (<span style=\"color: #00d7ff; text-decoration-color: #00d7ff\">None</span>, <span style=\"color: #00af00; text-decoration-color: #00af00\">128</span>)            │           <span style=\"color: #00af00; text-decoration-color: #00af00\">512</span> │\n",
       "│ (<span style=\"color: #0087ff; text-decoration-color: #0087ff\">BatchNormalization</span>)            │                        │               │\n",
       "├─────────────────────────────────┼────────────────────────┼───────────────┤\n",
       "│ dropout_3 (<span style=\"color: #0087ff; text-decoration-color: #0087ff\">Dropout</span>)             │ (<span style=\"color: #00d7ff; text-decoration-color: #00d7ff\">None</span>, <span style=\"color: #00af00; text-decoration-color: #00af00\">128</span>)            │             <span style=\"color: #00af00; text-decoration-color: #00af00\">0</span> │\n",
       "├─────────────────────────────────┼────────────────────────┼───────────────┤\n",
       "│ dense_1 (<span style=\"color: #0087ff; text-decoration-color: #0087ff\">Dense</span>)                 │ (<span style=\"color: #00d7ff; text-decoration-color: #00d7ff\">None</span>, <span style=\"color: #00af00; text-decoration-color: #00af00\">7</span>)              │           <span style=\"color: #00af00; text-decoration-color: #00af00\">903</span> │\n",
       "└─────────────────────────────────┴────────────────────────┴───────────────┘\n",
       "</pre>\n"
      ],
      "text/plain": [
       "┏━━━━━━━━━━━━━━━━━━━━━━━━━━━━━━━━━┳━━━━━━━━━━━━━━━━━━━━━━━━┳━━━━━━━━━━━━━━━┓\n",
       "┃\u001b[1m \u001b[0m\u001b[1mLayer (type)                   \u001b[0m\u001b[1m \u001b[0m┃\u001b[1m \u001b[0m\u001b[1mOutput Shape          \u001b[0m\u001b[1m \u001b[0m┃\u001b[1m \u001b[0m\u001b[1m      Param #\u001b[0m\u001b[1m \u001b[0m┃\n",
       "┡━━━━━━━━━━━━━━━━━━━━━━━━━━━━━━━━━╇━━━━━━━━━━━━━━━━━━━━━━━━╇━━━━━━━━━━━━━━━┩\n",
       "│ conv2d (\u001b[38;5;33mConv2D\u001b[0m)                 │ (\u001b[38;5;45mNone\u001b[0m, \u001b[38;5;34m48\u001b[0m, \u001b[38;5;34m48\u001b[0m, \u001b[38;5;34m32\u001b[0m)     │           \u001b[38;5;34m320\u001b[0m │\n",
       "├─────────────────────────────────┼────────────────────────┼───────────────┤\n",
       "│ batch_normalization             │ (\u001b[38;5;45mNone\u001b[0m, \u001b[38;5;34m48\u001b[0m, \u001b[38;5;34m48\u001b[0m, \u001b[38;5;34m32\u001b[0m)     │           \u001b[38;5;34m128\u001b[0m │\n",
       "│ (\u001b[38;5;33mBatchNormalization\u001b[0m)            │                        │               │\n",
       "├─────────────────────────────────┼────────────────────────┼───────────────┤\n",
       "│ max_pooling2d (\u001b[38;5;33mMaxPooling2D\u001b[0m)    │ (\u001b[38;5;45mNone\u001b[0m, \u001b[38;5;34m24\u001b[0m, \u001b[38;5;34m24\u001b[0m, \u001b[38;5;34m32\u001b[0m)     │             \u001b[38;5;34m0\u001b[0m │\n",
       "├─────────────────────────────────┼────────────────────────┼───────────────┤\n",
       "│ dropout (\u001b[38;5;33mDropout\u001b[0m)               │ (\u001b[38;5;45mNone\u001b[0m, \u001b[38;5;34m24\u001b[0m, \u001b[38;5;34m24\u001b[0m, \u001b[38;5;34m32\u001b[0m)     │             \u001b[38;5;34m0\u001b[0m │\n",
       "├─────────────────────────────────┼────────────────────────┼───────────────┤\n",
       "│ conv2d_1 (\u001b[38;5;33mConv2D\u001b[0m)               │ (\u001b[38;5;45mNone\u001b[0m, \u001b[38;5;34m24\u001b[0m, \u001b[38;5;34m24\u001b[0m, \u001b[38;5;34m64\u001b[0m)     │        \u001b[38;5;34m18,496\u001b[0m │\n",
       "├─────────────────────────────────┼────────────────────────┼───────────────┤\n",
       "│ batch_normalization_1           │ (\u001b[38;5;45mNone\u001b[0m, \u001b[38;5;34m24\u001b[0m, \u001b[38;5;34m24\u001b[0m, \u001b[38;5;34m64\u001b[0m)     │           \u001b[38;5;34m256\u001b[0m │\n",
       "│ (\u001b[38;5;33mBatchNormalization\u001b[0m)            │                        │               │\n",
       "├─────────────────────────────────┼────────────────────────┼───────────────┤\n",
       "│ max_pooling2d_1 (\u001b[38;5;33mMaxPooling2D\u001b[0m)  │ (\u001b[38;5;45mNone\u001b[0m, \u001b[38;5;34m12\u001b[0m, \u001b[38;5;34m12\u001b[0m, \u001b[38;5;34m64\u001b[0m)     │             \u001b[38;5;34m0\u001b[0m │\n",
       "├─────────────────────────────────┼────────────────────────┼───────────────┤\n",
       "│ dropout_1 (\u001b[38;5;33mDropout\u001b[0m)             │ (\u001b[38;5;45mNone\u001b[0m, \u001b[38;5;34m12\u001b[0m, \u001b[38;5;34m12\u001b[0m, \u001b[38;5;34m64\u001b[0m)     │             \u001b[38;5;34m0\u001b[0m │\n",
       "├─────────────────────────────────┼────────────────────────┼───────────────┤\n",
       "│ conv2d_2 (\u001b[38;5;33mConv2D\u001b[0m)               │ (\u001b[38;5;45mNone\u001b[0m, \u001b[38;5;34m12\u001b[0m, \u001b[38;5;34m12\u001b[0m, \u001b[38;5;34m128\u001b[0m)    │        \u001b[38;5;34m73,856\u001b[0m │\n",
       "├─────────────────────────────────┼────────────────────────┼───────────────┤\n",
       "│ batch_normalization_2           │ (\u001b[38;5;45mNone\u001b[0m, \u001b[38;5;34m12\u001b[0m, \u001b[38;5;34m12\u001b[0m, \u001b[38;5;34m128\u001b[0m)    │           \u001b[38;5;34m512\u001b[0m │\n",
       "│ (\u001b[38;5;33mBatchNormalization\u001b[0m)            │                        │               │\n",
       "├─────────────────────────────────┼────────────────────────┼───────────────┤\n",
       "│ max_pooling2d_2 (\u001b[38;5;33mMaxPooling2D\u001b[0m)  │ (\u001b[38;5;45mNone\u001b[0m, \u001b[38;5;34m6\u001b[0m, \u001b[38;5;34m6\u001b[0m, \u001b[38;5;34m128\u001b[0m)      │             \u001b[38;5;34m0\u001b[0m │\n",
       "├─────────────────────────────────┼────────────────────────┼───────────────┤\n",
       "│ dropout_2 (\u001b[38;5;33mDropout\u001b[0m)             │ (\u001b[38;5;45mNone\u001b[0m, \u001b[38;5;34m6\u001b[0m, \u001b[38;5;34m6\u001b[0m, \u001b[38;5;34m128\u001b[0m)      │             \u001b[38;5;34m0\u001b[0m │\n",
       "├─────────────────────────────────┼────────────────────────┼───────────────┤\n",
       "│ flatten (\u001b[38;5;33mFlatten\u001b[0m)               │ (\u001b[38;5;45mNone\u001b[0m, \u001b[38;5;34m4608\u001b[0m)           │             \u001b[38;5;34m0\u001b[0m │\n",
       "├─────────────────────────────────┼────────────────────────┼───────────────┤\n",
       "│ dense (\u001b[38;5;33mDense\u001b[0m)                   │ (\u001b[38;5;45mNone\u001b[0m, \u001b[38;5;34m128\u001b[0m)            │       \u001b[38;5;34m589,952\u001b[0m │\n",
       "├─────────────────────────────────┼────────────────────────┼───────────────┤\n",
       "│ batch_normalization_3           │ (\u001b[38;5;45mNone\u001b[0m, \u001b[38;5;34m128\u001b[0m)            │           \u001b[38;5;34m512\u001b[0m │\n",
       "│ (\u001b[38;5;33mBatchNormalization\u001b[0m)            │                        │               │\n",
       "├─────────────────────────────────┼────────────────────────┼───────────────┤\n",
       "│ dropout_3 (\u001b[38;5;33mDropout\u001b[0m)             │ (\u001b[38;5;45mNone\u001b[0m, \u001b[38;5;34m128\u001b[0m)            │             \u001b[38;5;34m0\u001b[0m │\n",
       "├─────────────────────────────────┼────────────────────────┼───────────────┤\n",
       "│ dense_1 (\u001b[38;5;33mDense\u001b[0m)                 │ (\u001b[38;5;45mNone\u001b[0m, \u001b[38;5;34m7\u001b[0m)              │           \u001b[38;5;34m903\u001b[0m │\n",
       "└─────────────────────────────────┴────────────────────────┴───────────────┘\n"
      ]
     },
     "metadata": {},
     "output_type": "display_data"
    },
    {
     "data": {
      "text/html": [
       "<pre style=\"white-space:pre;overflow-x:auto;line-height:normal;font-family:Menlo,'DejaVu Sans Mono',consolas,'Courier New',monospace\"><span style=\"font-weight: bold\"> Total params: </span><span style=\"color: #00af00; text-decoration-color: #00af00\">684,935</span> (2.61 MB)\n",
       "</pre>\n"
      ],
      "text/plain": [
       "\u001b[1m Total params: \u001b[0m\u001b[38;5;34m684,935\u001b[0m (2.61 MB)\n"
      ]
     },
     "metadata": {},
     "output_type": "display_data"
    },
    {
     "data": {
      "text/html": [
       "<pre style=\"white-space:pre;overflow-x:auto;line-height:normal;font-family:Menlo,'DejaVu Sans Mono',consolas,'Courier New',monospace\"><span style=\"font-weight: bold\"> Trainable params: </span><span style=\"color: #00af00; text-decoration-color: #00af00\">684,231</span> (2.61 MB)\n",
       "</pre>\n"
      ],
      "text/plain": [
       "\u001b[1m Trainable params: \u001b[0m\u001b[38;5;34m684,231\u001b[0m (2.61 MB)\n"
      ]
     },
     "metadata": {},
     "output_type": "display_data"
    },
    {
     "data": {
      "text/html": [
       "<pre style=\"white-space:pre;overflow-x:auto;line-height:normal;font-family:Menlo,'DejaVu Sans Mono',consolas,'Courier New',monospace\"><span style=\"font-weight: bold\"> Non-trainable params: </span><span style=\"color: #00af00; text-decoration-color: #00af00\">704</span> (2.75 KB)\n",
       "</pre>\n"
      ],
      "text/plain": [
       "\u001b[1m Non-trainable params: \u001b[0m\u001b[38;5;34m704\u001b[0m (2.75 KB)\n"
      ]
     },
     "metadata": {},
     "output_type": "display_data"
    }
   ],
   "source": [
    "# Cell 2 - Change input_shape if needed (48,48,1 for FER-2013)\n",
    "def build_cnn(input_shape=(48,48,1), n_classes=7):\n",
    "    model = models.Sequential([\n",
    "        layers.Input(shape=input_shape),\n",
    "\n",
    "        layers.Conv2D(32, (3,3), activation='relu', padding='same'),\n",
    "        layers.BatchNormalization(),\n",
    "        layers.MaxPooling2D((2,2)),\n",
    "        layers.Dropout(0.25),\n",
    "\n",
    "        layers.Conv2D(64, (3,3), activation='relu', padding='same'),\n",
    "        layers.BatchNormalization(),\n",
    "        layers.MaxPooling2D((2,2)),\n",
    "        layers.Dropout(0.25),\n",
    "\n",
    "        layers.Conv2D(128, (3,3), activation='relu', padding='same'),\n",
    "        layers.BatchNormalization(),\n",
    "        layers.MaxPooling2D((2,2)),\n",
    "        layers.Dropout(0.4),\n",
    "\n",
    "        layers.Flatten(),\n",
    "        layers.Dense(128, activation='relu'),\n",
    "        layers.BatchNormalization(),\n",
    "        layers.Dropout(0.5),\n",
    "\n",
    "        layers.Dense(n_classes, activation='softmax')\n",
    "    ])\n",
    "    model.compile(optimizer=optimizers.Adam(learning_rate=1e-3),\n",
    "                  loss='categorical_crossentropy',\n",
    "                  metrics=['accuracy'])\n",
    "    return model\n",
    "\n",
    "# Example build\n",
    "cnn = build_cnn()\n",
    "cnn.summary()\n"
   ]
  },
  {
   "cell_type": "code",
   "execution_count": 54,
   "id": "097d4692-0b41-44e4-b753-d90ec8104ac5",
   "metadata": {},
   "outputs": [
    {
     "name": "stdout",
     "output_type": "stream",
     "text": [
      "Using generator path\n",
      "Class weights: {np.int32(0): np.float64(1.0266404434114071), np.int32(1): np.float64(9.401555464592715), np.int32(2): np.float64(1.0009587727708533), np.int32(3): np.float64(0.5684585684585685), np.int32(4): np.float64(0.826068191627104), np.int32(5): np.float64(0.8491570541259982), np.int32(6): np.float64(1.2933160650937552)}\n"
     ]
    }
   ],
   "source": [
    "\n",
    "print(\"Using generator path\" if 'train_data' in globals() else \"No train_data detected\")\n",
    "if 'train_data' in globals():\n",
    "    train_classes = train_data.classes  # array of integer labels\n",
    "    classes_unique = np.unique(train_classes)\n",
    "    cw = compute_class_weight('balanced', classes=classes_unique, y=train_classes)\n",
    "    class_weights = dict(zip(classes_unique, cw))\n",
    "    print(\"Class weights:\", class_weights)\n",
    "else:\n",
    "    class_weight = None\n"
   ]
  },
  {
   "cell_type": "code",
   "execution_count": 58,
   "id": "0ff35d96-04c2-47f6-be19-fb24b6eeddd5",
   "metadata": {},
   "outputs": [],
   "source": [
    "\n",
    "es = callbacks.EarlyStopping(monitor='val_loss', patience=6, restore_best_weights=True)\n",
    "mc_path = \"fer_cnn_best.keras\"\n",
    "mc = callbacks.ModelCheckpoint(mc_path, monitor='val_loss', save_best_only=True)\n",
    "rlr = callbacks.ReduceLROnPlateau(monitor='val_loss', factor=0.5, patience=3, min_lr=1e-6)\n",
    "\n",
    "EPOCHS = 40\n",
    "BATCH_SIZE = 64"
   ]
  },
  {
   "cell_type": "code",
   "execution_count": 59,
   "id": "9bf647d4-cb00-45d6-864d-e01d2a1b6d52",
   "metadata": {},
   "outputs": [],
   "source": [
    "if 'train_data' in globals():\n",
    "    model = build_cnn(input_shape=(48,48,1), n_classes=train_data.num_classes)\n",
    "\n",
    "    steps_per_epoch = math.ceil(train_data.n / train_data.batch_size)\n",
    "    validation_steps = math.ceil(val_data.n / val_data.batch_size)\n"
   ]
  },
  {
   "cell_type": "code",
   "execution_count": 60,
   "id": "674e4d78-1490-4b50-953f-58b4a2df2102",
   "metadata": {},
   "outputs": [
    {
     "name": "stdout",
     "output_type": "stream",
     "text": [
      "Epoch 1/40\n"
     ]
    },
    {
     "name": "stderr",
     "output_type": "stream",
     "text": [
      "C:\\Users\\avija\\Downloads\\FER2013\\tfvenv1\\Lib\\site-packages\\keras\\src\\trainers\\data_adapters\\py_dataset_adapter.py:121: UserWarning: Your `PyDataset` class should call `super().__init__(**kwargs)` in its constructor. `**kwargs` can include `workers`, `use_multiprocessing`, `max_queue_size`. Do not pass these arguments to `fit()`, as they will be ignored.\n",
      "  self._warn_if_super_not_called()\n"
     ]
    },
    {
     "name": "stdout",
     "output_type": "stream",
     "text": [
      "\u001b[1m359/359\u001b[0m \u001b[32m━━━━━━━━━━━━━━━━━━━━\u001b[0m\u001b[37m\u001b[0m \u001b[1m59s\u001b[0m 158ms/step - accuracy: 0.1902 - loss: 2.2616 - val_accuracy: 0.2404 - val_loss: 1.8857 - learning_rate: 0.0010\n",
      "Epoch 2/40\n",
      "\u001b[1m359/359\u001b[0m \u001b[32m━━━━━━━━━━━━━━━━━━━━\u001b[0m\u001b[37m\u001b[0m \u001b[1m37s\u001b[0m 103ms/step - accuracy: 0.2503 - loss: 1.8858 - val_accuracy: 0.2656 - val_loss: 1.8041 - learning_rate: 0.0010\n",
      "Epoch 3/40\n",
      "\u001b[1m359/359\u001b[0m \u001b[32m━━━━━━━━━━━━━━━━━━━━\u001b[0m\u001b[37m\u001b[0m \u001b[1m36s\u001b[0m 101ms/step - accuracy: 0.2974 - loss: 1.7630 - val_accuracy: 0.3510 - val_loss: 1.6855 - learning_rate: 0.0010\n",
      "Epoch 4/40\n",
      "\u001b[1m359/359\u001b[0m \u001b[32m━━━━━━━━━━━━━━━━━━━━\u001b[0m\u001b[37m\u001b[0m \u001b[1m38s\u001b[0m 105ms/step - accuracy: 0.3403 - loss: 1.6774 - val_accuracy: 0.2829 - val_loss: 1.8526 - learning_rate: 0.0010\n",
      "Epoch 5/40\n",
      "\u001b[1m359/359\u001b[0m \u001b[32m━━━━━━━━━━━━━━━━━━━━\u001b[0m\u001b[37m\u001b[0m \u001b[1m39s\u001b[0m 108ms/step - accuracy: 0.3546 - loss: 1.6412 - val_accuracy: 0.3395 - val_loss: 1.7193 - learning_rate: 0.0010\n",
      "Epoch 6/40\n",
      "\u001b[1m359/359\u001b[0m \u001b[32m━━━━━━━━━━━━━━━━━━━━\u001b[0m\u001b[37m\u001b[0m \u001b[1m39s\u001b[0m 108ms/step - accuracy: 0.3759 - loss: 1.6078 - val_accuracy: 0.4135 - val_loss: 1.5359 - learning_rate: 0.0010\n",
      "Epoch 7/40\n",
      "\u001b[1m359/359\u001b[0m \u001b[32m━━━━━━━━━━━━━━━━━━━━\u001b[0m\u001b[37m\u001b[0m \u001b[1m36s\u001b[0m 100ms/step - accuracy: 0.3872 - loss: 1.5683 - val_accuracy: 0.3923 - val_loss: 1.6075 - learning_rate: 0.0010\n",
      "Epoch 8/40\n",
      "\u001b[1m359/359\u001b[0m \u001b[32m━━━━━━━━━━━━━━━━━━━━\u001b[0m\u001b[37m\u001b[0m \u001b[1m40s\u001b[0m 111ms/step - accuracy: 0.3961 - loss: 1.5664 - val_accuracy: 0.3574 - val_loss: 1.6824 - learning_rate: 0.0010\n",
      "Epoch 9/40\n",
      "\u001b[1m359/359\u001b[0m \u001b[32m━━━━━━━━━━━━━━━━━━━━\u001b[0m\u001b[37m\u001b[0m \u001b[1m38s\u001b[0m 104ms/step - accuracy: 0.4092 - loss: 1.5309 - val_accuracy: 0.3074 - val_loss: 1.8465 - learning_rate: 0.0010\n",
      "Epoch 10/40\n",
      "\u001b[1m359/359\u001b[0m \u001b[32m━━━━━━━━━━━━━━━━━━━━\u001b[0m\u001b[37m\u001b[0m \u001b[1m37s\u001b[0m 102ms/step - accuracy: 0.4232 - loss: 1.4857 - val_accuracy: 0.4611 - val_loss: 1.4302 - learning_rate: 5.0000e-04\n",
      "Epoch 11/40\n",
      "\u001b[1m359/359\u001b[0m \u001b[32m━━━━━━━━━━━━━━━━━━━━\u001b[0m\u001b[37m\u001b[0m \u001b[1m38s\u001b[0m 105ms/step - accuracy: 0.4367 - loss: 1.4567 - val_accuracy: 0.4510 - val_loss: 1.4384 - learning_rate: 5.0000e-04\n",
      "Epoch 12/40\n",
      "\u001b[1m359/359\u001b[0m \u001b[32m━━━━━━━━━━━━━━━━━━━━\u001b[0m\u001b[37m\u001b[0m \u001b[1m37s\u001b[0m 102ms/step - accuracy: 0.4405 - loss: 1.4410 - val_accuracy: 0.4511 - val_loss: 1.4232 - learning_rate: 5.0000e-04\n",
      "Epoch 13/40\n",
      "\u001b[1m359/359\u001b[0m \u001b[32m━━━━━━━━━━━━━━━━━━━━\u001b[0m\u001b[37m\u001b[0m \u001b[1m37s\u001b[0m 104ms/step - accuracy: 0.4433 - loss: 1.4280 - val_accuracy: 0.4360 - val_loss: 1.4662 - learning_rate: 5.0000e-04\n",
      "Epoch 14/40\n",
      "\u001b[1m359/359\u001b[0m \u001b[32m━━━━━━━━━━━━━━━━━━━━\u001b[0m\u001b[37m\u001b[0m \u001b[1m38s\u001b[0m 107ms/step - accuracy: 0.4343 - loss: 1.4537 - val_accuracy: 0.4767 - val_loss: 1.3792 - learning_rate: 5.0000e-04\n",
      "Epoch 15/40\n",
      "\u001b[1m359/359\u001b[0m \u001b[32m━━━━━━━━━━━━━━━━━━━━\u001b[0m\u001b[37m\u001b[0m \u001b[1m37s\u001b[0m 103ms/step - accuracy: 0.4471 - loss: 1.4248 - val_accuracy: 0.4605 - val_loss: 1.4006 - learning_rate: 5.0000e-04\n",
      "Epoch 16/40\n",
      "\u001b[1m359/359\u001b[0m \u001b[32m━━━━━━━━━━━━━━━━━━━━\u001b[0m\u001b[37m\u001b[0m \u001b[1m36s\u001b[0m 101ms/step - accuracy: 0.4545 - loss: 1.4186 - val_accuracy: 0.4353 - val_loss: 1.4903 - learning_rate: 5.0000e-04\n",
      "Epoch 17/40\n",
      "\u001b[1m359/359\u001b[0m \u001b[32m━━━━━━━━━━━━━━━━━━━━\u001b[0m\u001b[37m\u001b[0m \u001b[1m37s\u001b[0m 104ms/step - accuracy: 0.4565 - loss: 1.3932 - val_accuracy: 0.4593 - val_loss: 1.4135 - learning_rate: 5.0000e-04\n",
      "Epoch 18/40\n",
      "\u001b[1m359/359\u001b[0m \u001b[32m━━━━━━━━━━━━━━━━━━━━\u001b[0m\u001b[37m\u001b[0m \u001b[1m36s\u001b[0m 100ms/step - accuracy: 0.4660 - loss: 1.3817 - val_accuracy: 0.4856 - val_loss: 1.3441 - learning_rate: 2.5000e-04\n",
      "Epoch 19/40\n",
      "\u001b[1m359/359\u001b[0m \u001b[32m━━━━━━━━━━━━━━━━━━━━\u001b[0m\u001b[37m\u001b[0m \u001b[1m38s\u001b[0m 106ms/step - accuracy: 0.4671 - loss: 1.3657 - val_accuracy: 0.4797 - val_loss: 1.3564 - learning_rate: 2.5000e-04\n",
      "Epoch 20/40\n",
      "\u001b[1m359/359\u001b[0m \u001b[32m━━━━━━━━━━━━━━━━━━━━\u001b[0m\u001b[37m\u001b[0m \u001b[1m38s\u001b[0m 106ms/step - accuracy: 0.4651 - loss: 1.3676 - val_accuracy: 0.4985 - val_loss: 1.3189 - learning_rate: 2.5000e-04\n",
      "Epoch 21/40\n",
      "\u001b[1m359/359\u001b[0m \u001b[32m━━━━━━━━━━━━━━━━━━━━\u001b[0m\u001b[37m\u001b[0m \u001b[1m37s\u001b[0m 103ms/step - accuracy: 0.4792 - loss: 1.3465 - val_accuracy: 0.5055 - val_loss: 1.2977 - learning_rate: 2.5000e-04\n",
      "Epoch 22/40\n",
      "\u001b[1m359/359\u001b[0m \u001b[32m━━━━━━━━━━━━━━━━━━━━\u001b[0m\u001b[37m\u001b[0m \u001b[1m37s\u001b[0m 102ms/step - accuracy: 0.4767 - loss: 1.3445 - val_accuracy: 0.4976 - val_loss: 1.3046 - learning_rate: 2.5000e-04\n",
      "Epoch 23/40\n",
      "\u001b[1m359/359\u001b[0m \u001b[32m━━━━━━━━━━━━━━━━━━━━\u001b[0m\u001b[37m\u001b[0m \u001b[1m38s\u001b[0m 107ms/step - accuracy: 0.4774 - loss: 1.3336 - val_accuracy: 0.5057 - val_loss: 1.2876 - learning_rate: 2.5000e-04\n",
      "Epoch 24/40\n",
      "\u001b[1m359/359\u001b[0m \u001b[32m━━━━━━━━━━━━━━━━━━━━\u001b[0m\u001b[37m\u001b[0m \u001b[1m36s\u001b[0m 101ms/step - accuracy: 0.4762 - loss: 1.3473 - val_accuracy: 0.4966 - val_loss: 1.3210 - learning_rate: 2.5000e-04\n",
      "Epoch 25/40\n",
      "\u001b[1m359/359\u001b[0m \u001b[32m━━━━━━━━━━━━━━━━━━━━\u001b[0m\u001b[37m\u001b[0m \u001b[1m37s\u001b[0m 104ms/step - accuracy: 0.4803 - loss: 1.3233 - val_accuracy: 0.5168 - val_loss: 1.2700 - learning_rate: 2.5000e-04\n",
      "Epoch 26/40\n",
      "\u001b[1m359/359\u001b[0m \u001b[32m━━━━━━━━━━━━━━━━━━━━\u001b[0m\u001b[37m\u001b[0m \u001b[1m37s\u001b[0m 103ms/step - accuracy: 0.4825 - loss: 1.3305 - val_accuracy: 0.5172 - val_loss: 1.2694 - learning_rate: 2.5000e-04\n",
      "Epoch 27/40\n",
      "\u001b[1m359/359\u001b[0m \u001b[32m━━━━━━━━━━━━━━━━━━━━\u001b[0m\u001b[37m\u001b[0m \u001b[1m36s\u001b[0m 100ms/step - accuracy: 0.4842 - loss: 1.3206 - val_accuracy: 0.5018 - val_loss: 1.2996 - learning_rate: 2.5000e-04\n",
      "Epoch 28/40\n",
      "\u001b[1m359/359\u001b[0m \u001b[32m━━━━━━━━━━━━━━━━━━━━\u001b[0m\u001b[37m\u001b[0m \u001b[1m37s\u001b[0m 103ms/step - accuracy: 0.4874 - loss: 1.3079 - val_accuracy: 0.5121 - val_loss: 1.2820 - learning_rate: 2.5000e-04\n",
      "Epoch 29/40\n",
      "\u001b[1m359/359\u001b[0m \u001b[32m━━━━━━━━━━━━━━━━━━━━\u001b[0m\u001b[37m\u001b[0m \u001b[1m37s\u001b[0m 104ms/step - accuracy: 0.4801 - loss: 1.3258 - val_accuracy: 0.4992 - val_loss: 1.3217 - learning_rate: 2.5000e-04\n",
      "Epoch 30/40\n",
      "\u001b[1m359/359\u001b[0m \u001b[32m━━━━━━━━━━━━━━━━━━━━\u001b[0m\u001b[37m\u001b[0m \u001b[1m37s\u001b[0m 103ms/step - accuracy: 0.4848 - loss: 1.3039 - val_accuracy: 0.4983 - val_loss: 1.3044 - learning_rate: 1.2500e-04\n",
      "Epoch 31/40\n",
      "\u001b[1m359/359\u001b[0m \u001b[32m━━━━━━━━━━━━━━━━━━━━\u001b[0m\u001b[37m\u001b[0m \u001b[1m38s\u001b[0m 106ms/step - accuracy: 0.4950 - loss: 1.2826 - val_accuracy: 0.5217 - val_loss: 1.2649 - learning_rate: 1.2500e-04\n",
      "Epoch 32/40\n",
      "\u001b[1m359/359\u001b[0m \u001b[32m━━━━━━━━━━━━━━━━━━━━\u001b[0m\u001b[37m\u001b[0m \u001b[1m37s\u001b[0m 102ms/step - accuracy: 0.4963 - loss: 1.2852 - val_accuracy: 0.5217 - val_loss: 1.2545 - learning_rate: 1.2500e-04\n",
      "Epoch 33/40\n",
      "\u001b[1m359/359\u001b[0m \u001b[32m━━━━━━━━━━━━━━━━━━━━\u001b[0m\u001b[37m\u001b[0m \u001b[1m37s\u001b[0m 104ms/step - accuracy: 0.4995 - loss: 1.2798 - val_accuracy: 0.5250 - val_loss: 1.2608 - learning_rate: 1.2500e-04\n",
      "Epoch 34/40\n",
      "\u001b[1m359/359\u001b[0m \u001b[32m━━━━━━━━━━━━━━━━━━━━\u001b[0m\u001b[37m\u001b[0m \u001b[1m36s\u001b[0m 101ms/step - accuracy: 0.4979 - loss: 1.2791 - val_accuracy: 0.5189 - val_loss: 1.2580 - learning_rate: 1.2500e-04\n",
      "Epoch 35/40\n",
      "\u001b[1m359/359\u001b[0m \u001b[32m━━━━━━━━━━━━━━━━━━━━\u001b[0m\u001b[37m\u001b[0m \u001b[1m41s\u001b[0m 114ms/step - accuracy: 0.4969 - loss: 1.2753 - val_accuracy: 0.5191 - val_loss: 1.2545 - learning_rate: 1.2500e-04\n",
      "Epoch 36/40\n",
      "\u001b[1m359/359\u001b[0m \u001b[32m━━━━━━━━━━━━━━━━━━━━\u001b[0m\u001b[37m\u001b[0m \u001b[1m37s\u001b[0m 102ms/step - accuracy: 0.4994 - loss: 1.2740 - val_accuracy: 0.5212 - val_loss: 1.2411 - learning_rate: 6.2500e-05\n",
      "Epoch 37/40\n",
      "\u001b[1m359/359\u001b[0m \u001b[32m━━━━━━━━━━━━━━━━━━━━\u001b[0m\u001b[37m\u001b[0m \u001b[1m37s\u001b[0m 103ms/step - accuracy: 0.5010 - loss: 1.2648 - val_accuracy: 0.5229 - val_loss: 1.2463 - learning_rate: 6.2500e-05\n",
      "Epoch 38/40\n",
      "\u001b[1m359/359\u001b[0m \u001b[32m━━━━━━━━━━━━━━━━━━━━\u001b[0m\u001b[37m\u001b[0m \u001b[1m39s\u001b[0m 108ms/step - accuracy: 0.4974 - loss: 1.2712 - val_accuracy: 0.5327 - val_loss: 1.2293 - learning_rate: 6.2500e-05\n",
      "Epoch 39/40\n",
      "\u001b[1m359/359\u001b[0m \u001b[32m━━━━━━━━━━━━━━━━━━━━\u001b[0m\u001b[37m\u001b[0m \u001b[1m39s\u001b[0m 110ms/step - accuracy: 0.4980 - loss: 1.2743 - val_accuracy: 0.5306 - val_loss: 1.2335 - learning_rate: 6.2500e-05\n",
      "Epoch 40/40\n",
      "\u001b[1m359/359\u001b[0m \u001b[32m━━━━━━━━━━━━━━━━━━━━\u001b[0m\u001b[37m\u001b[0m \u001b[1m38s\u001b[0m 107ms/step - accuracy: 0.5049 - loss: 1.2706 - val_accuracy: 0.5187 - val_loss: 1.2461 - learning_rate: 6.2500e-05\n"
     ]
    }
   ],
   "source": [
    "history = model.fit(\n",
    "    train_data,\n",
    "    steps_per_epoch=steps_per_epoch,\n",
    "    validation_data=val_data,\n",
    "    validation_steps=validation_steps,\n",
    "    epochs=EPOCHS,\n",
    "    class_weight=class_weights,\n",
    "    callbacks=[es, mc ,rlr],\n",
    "    verbose=1\n",
    ")"
   ]
  },
  {
   "cell_type": "code",
   "execution_count": 65,
   "id": "9c461e02-4580-4acd-bc5d-5190735f851e",
   "metadata": {},
   "outputs": [
    {
     "name": "stdout",
     "output_type": "stream",
     "text": [
      "\u001b[1m113/113\u001b[0m \u001b[32m━━━━━━━━━━━━━━━━━━━━\u001b[0m\u001b[37m\u001b[0m \u001b[1m3s\u001b[0m 24ms/step - accuracy: 0.5515 - loss: 1.1798\n",
      "Test loss: 1.1798, Test acc: 0.5515\n"
     ]
    }
   ],
   "source": [
    "\n",
    "if os.path.exists(mc_path):\n",
    "    model.load_weights(mc_path)\n",
    "\n",
    "# Evaluate\n",
    "if 'X_test' in globals():\n",
    "    loss, acc = model.evaluate(X_test, y_test, verbose=1)\n",
    "    print(f\"Test loss: {loss:.4f}, Test acc: {acc:.4f}\")\n",
    "elif 'test_data' in globals():\n",
    "    test_steps = math.ceil(test_data.n / test_data.batch_size)\n",
    "    loss, acc = model.evaluate(test_data, steps=test_steps, verbose=1)\n",
    "    print(f\"Test loss: {loss:.4f}, Test acc: {acc:.4f}\")\n",
    "\n",
    "\n"
   ]
  },
  {
   "cell_type": "code",
   "execution_count": 73,
   "id": "8545b18d-3c03-454e-b8b9-0259bd91ce58",
   "metadata": {},
   "outputs": [
    {
     "data": {
      "image/png": "[encoded data removed]",
      "text/plain": [
       "<Figure size 1200x400 with 2 Axes>"
      ]
     },
     "metadata": {},
     "output_type": "display_data"
    }
   ],
   "source": [
    "if 'history' in globals():\n",
    "    plt.figure(figsize=(12,4))\n",
    "    plt.subplot(1,2,1)\n",
    "    plt.plot(history.history['loss'],label='train_loss')\n",
    "    plt.plot(history.history['val_loss'],label='val_loss')\n",
    "    plt.legend();plt.title(\"Loss\")\n",
    "    plt.subplot(1,2,2)\n",
    "    plt.plot(history.history['accuracy'],label='train_acc')\n",
    "    plt.plot(history.history['val_accuracy'],label='val_acc')\n",
    "    plt.legend();plt.title(\"Accuracy\")\n",
    "    plt.show()"
   ]
  },
  {
   "cell_type": "code",
   "execution_count": 75,
   "id": "c6c8a25b-c143-420d-9124-96b67271876d",
   "metadata": {},
   "outputs": [
    {
     "name": "stdout",
     "output_type": "stream",
     "text": [
      "\u001b[1m113/113\u001b[0m \u001b[32m━━━━━━━━━━━━━━━━━━━━\u001b[0m\u001b[37m\u001b[0m \u001b[1m3s\u001b[0m 23ms/step\n",
      "Saved predictions to fer_test_predictions.csv\n",
      "Saved model to fer_cnn_full_model.keras\n"
     ]
    }
   ],
   "source": [
    "\n",
    "emotion_map = {0:'angry',1:'disgust',2:'fear',3:'happy',4:'sad',5:'surprise',6:'neutral'}\n",
    "\n",
    "predictions = []\n",
    "if 'test_data' in globals():\n",
    "    \n",
    "    test_steps = math.ceil(test_data.n / test_data.batch_size)\n",
    "    probs = model.predict(test_data, steps=test_steps, verbose=1)\n",
    "    preds = np.argmax(probs, axis=1)\n",
    "    filenames = test_data.filenames  # relative paths from test_dir\n",
    "    \n",
    "    for fname, p, prob in zip(filenames, preds, probs):\n",
    "        predictions.append({\n",
    "            'filename': fname,\n",
    "            'predicted_label': int(p),\n",
    "            'predicted_emotion': emotion_map[int(p)],\n",
    "            'probabilities': prob.tolist()\n",
    "        })\n",
    "\n",
    "elif 'X_test' in globals():\n",
    "    probs = model.predict(X_test, verbose=1)\n",
    "    preds = np.argmax(probs, axis=1)\n",
    "    for i, (p, prob) in enumerate(zip(preds, probs)):\n",
    "        predictions.append({\n",
    "            'index': i,\n",
    "            'predicted_label': int(p),\n",
    "            'predicted_emotion': emotion_map[int(p)],\n",
    "            'probabilities': prob.tolist()\n",
    "        })\n",
    "\n",
    "\n",
    "pred_df = pd.DataFrame(predictions)\n",
    "pred_df.to_csv(\"fer_test_predictions.csv\", index=False)\n",
    "print(\"Saved predictions to fer_test_predictions.csv\")\n",
    "\n",
    "\n",
    "model.save(\"fer_cnn_full_model.keras\")\n",
    "print(\"Saved model to fer_cnn_full_model.keras\")\n"
   ]
  },
  {
   "cell_type": "code",
   "execution_count": 79,
   "id": "109205b0-ea82-4500-8e96-ca03b5762950",
   "metadata": {},
   "outputs": [
    {
     "name": "stdout",
     "output_type": "stream",
     "text": [
      "                                                  Track           Artist\n",
      "6801                                            rock on           t. rex\n",
      "19286   i wanna rock you - marat taturas kazachok remix  giorgio moroder\n",
      "104715                                       black rock        the roots\n",
      "160611                      punkrocker (feat. iggy pop)       teddybears\n",
      "165771                            the rocks & the water    mark knopfler\n"
     ]
    }
   ],
   "source": [
    "\n",
    "preds = pd.read_csv(\"fer_test_predictions.csv\")\n",
    "sample = preds.iloc[0]\n",
    "emotion = sample['predicted_emotion']\n",
    "\n",
    "\n",
    "print(recommend_songs(emotion, n=5))"
   ]
  },
  {
   "cell_type": "code",
   "execution_count": null,
   "id": "cd305d08-538b-4f62-8023-2c8fcc39ae2d",
   "metadata": {},
   "outputs": [],
   "source": []
  }
 ],
 "metadata": {
  "kernelspec": {
   "display_name": "tfkernel",
   "language": "python",
   "name": "tfkernel"
  },
  "language_info": {
   "codemirror_mode": {
    "name": "ipython",
    "version": 3
   },
   "file_extension": ".py",
   "mimetype": "text/x-python",
   "name": "python",
   "nbconvert_exporter": "python",
   "pygments_lexer": "ipython3",
   "version": "3.11.1"
  }
 },
 "nbformat": 4,
 "nbformat_minor": 5
}
